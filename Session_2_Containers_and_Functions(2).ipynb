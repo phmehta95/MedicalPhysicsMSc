{
  "nbformat": 4,
  "nbformat_minor": 0,
  "metadata": {
    "colab": {
      "provenance": [],
      "toc_visible": true,
      "include_colab_link": true
    },
    "kernelspec": {
      "name": "python3",
      "display_name": "Python 3"
    },
    "language_info": {
      "name": "python"
    }
  },
  "cells": [
    {
      "cell_type": "markdown",
      "metadata": {
        "id": "view-in-github",
        "colab_type": "text"
      },
      "source": [
        "<a href=\"https://colab.research.google.com/github/phmehta95/MedicalPhysicsMSc/blob/main/Session_2_Containers_and_Functions(2).ipynb\" target=\"_parent\"><img src=\"https://colab.research.google.com/assets/colab-badge.svg\" alt=\"Open In Colab\"/></a>"
      ]
    },
    {
      "cell_type": "markdown",
      "source": [
        "# Standard Python containers\n",
        "\n",
        "We've already encountered *lists*, which are the most common type of container that Python provides natively. There are however a range of other containers that have different uses."
      ],
      "metadata": {
        "id": "R-50fCERKBqs"
      }
    },
    {
      "cell_type": "markdown",
      "source": [
        "## Dictionaries\n",
        "\n",
        "Another important data type we will look at is 'Dictionaries'. Dictionaries pair a *key* with a *value*. Often we use the key (which is commonly a string) to look up the associated value (e.g. hospital number to look up a patient's current BP measurement).\n",
        "\n",
        "The combination of key and value makes up a dictionary item.\n",
        "\n",
        "Dictionaries can be nested so that they can be used to create something akin to a data table or dataframe (though large dataframes are best handled using the `pandas` module, which you will learn about in the next session)."
      ],
      "metadata": {
        "id": "SzJvu8S5tnnh"
      }
    },
    {
      "cell_type": "markdown",
      "source": [
        "We use curly brackets to define a type dictionary:"
      ],
      "metadata": {
        "id": "BMsVBTPkvPjn"
      }
    },
    {
      "cell_type": "code",
      "source": [
        "meal_dict={}"
      ],
      "metadata": {
        "id": "GC1b3RsLk8G6"
      },
      "execution_count": 1,
      "outputs": []
    },
    {
      "cell_type": "markdown",
      "source": [
        "We can define key, value  pairs in the dictionary in the following way:"
      ],
      "metadata": {
        "id": "wzJ8bcLMk5T4"
      }
    },
    {
      "cell_type": "code",
      "source": [
        "meal_dict['starter'] = 'Bruschetta'\n",
        "meal_dict['aperitif'] = 'Pinneau'\n",
        "meal_dict['main'] = 'Seafood Pasta'\n",
        "meal_dict['dessert'] = 'Tiramisu'\n",
        "\n",
        "print (meal_dict)"
      ],
      "metadata": {
        "id": "3dVyo7DPw5tA",
        "colab": {
          "base_uri": "https://localhost:8080/"
        },
        "outputId": "625740ac-9a1d-48ce-a272-4c24360c8f63"
      },
      "execution_count": 2,
      "outputs": [
        {
          "output_type": "stream",
          "name": "stdout",
          "text": [
            "{'starter': 'Bruschetta', 'aperitif': 'Pinneau', 'main': 'Seafood Pasta', 'dessert': 'Tiramisu'}\n"
          ]
        }
      ]
    },
    {
      "cell_type": "markdown",
      "source": [
        "Or more succinctly using this syntax:"
      ],
      "metadata": {
        "id": "dYQ2456inIKO"
      }
    },
    {
      "cell_type": "code",
      "source": [
        "meal_dict = {'starter': 'Bruschetta', 'aperitif': 'Pinneau', 'main': 'Seafood Pasta', 'dessert': 'Tiramisu'}\n",
        "print (meal_dict)"
      ],
      "metadata": {
        "colab": {
          "base_uri": "https://localhost:8080/"
        },
        "id": "m_W0EkTqnMiQ",
        "outputId": "086791c6-8804-4a3a-cfce-f5db8f92b1cb"
      },
      "execution_count": 3,
      "outputs": [
        {
          "output_type": "stream",
          "name": "stdout",
          "text": [
            "{'starter': 'Bruschetta', 'aperitif': 'Pinneau', 'main': 'Seafood Pasta', 'dessert': 'Tiramisu'}\n"
          ]
        }
      ]
    },
    {
      "cell_type": "markdown",
      "source": [
        "Dictionaries are *iterables*, and by default will iterate over their *keys*:\n"
      ],
      "metadata": {
        "id": "tH7t2ZDSldVd"
      }
    },
    {
      "cell_type": "code",
      "source": [
        "for key in meal_dict:\n",
        "    print(key, meal_dict[key])  # prints key and value"
      ],
      "metadata": {
        "id": "TOn-vHx_ENnv",
        "colab": {
          "base_uri": "https://localhost:8080/"
        },
        "outputId": "36ac178f-37f7-45e9-85ae-86c005412f90"
      },
      "execution_count": 4,
      "outputs": [
        {
          "output_type": "stream",
          "name": "stdout",
          "text": [
            "starter Bruschetta\n",
            "aperitif Pinneau\n",
            "main Seafood Pasta\n",
            "dessert Tiramisu\n"
          ]
        }
      ]
    },
    {
      "cell_type": "markdown",
      "source": [
        "In the above, note that we are retrieving *values* by providing their corresponding *key* using square brackets (as we did for indexing lists)."
      ],
      "metadata": {
        "id": "t6hUzQCdvwLo"
      }
    },
    {
      "cell_type": "markdown",
      "source": [
        "Alternatively, we can loop over both keys and values using the `items()` method:"
      ],
      "metadata": {
        "id": "8HNPz73EluQU"
      }
    },
    {
      "cell_type": "code",
      "source": [
        "for k,v in meal_dict.items():\n",
        "  print (k,v)"
      ],
      "metadata": {
        "colab": {
          "base_uri": "https://localhost:8080/"
        },
        "id": "YOfpYcKEloGa",
        "outputId": "a923f801-9953-4648-d95c-197532120af0"
      },
      "execution_count": 5,
      "outputs": [
        {
          "output_type": "stream",
          "name": "stdout",
          "text": [
            "starter Bruschetta\n",
            "aperitif Pinneau\n",
            "main Seafood Pasta\n",
            "dessert Tiramisu\n"
          ]
        }
      ]
    },
    {
      "cell_type": "markdown",
      "source": [
        "We can check if a key is present in a list and if it's not there add it:\n"
      ],
      "metadata": {
        "id": "Et6_kTXJl7uV"
      }
    },
    {
      "cell_type": "code",
      "source": [
        "if 'drink' not in meal_dict:\n",
        "  meal_dict['drink'] = 'Lemonade'\n",
        "print (meal_dict)"
      ],
      "metadata": {
        "id": "8yX3Hqu6EOvZ",
        "colab": {
          "base_uri": "https://localhost:8080/"
        },
        "outputId": "44103f80-4b69-40be-f701-a2dd69845683"
      },
      "execution_count": 6,
      "outputs": [
        {
          "output_type": "stream",
          "name": "stdout",
          "text": [
            "{'starter': 'Bruschetta', 'aperitif': 'Pinneau', 'main': 'Seafood Pasta', 'dessert': 'Tiramisu', 'drink': 'Lemonade'}\n"
          ]
        }
      ]
    },
    {
      "cell_type": "markdown",
      "source": [
        "### Operations on `dict`\n",
        "\n",
        "`pop()` removes an item from the dictionary, returning the value from the associated key:\n"
      ],
      "metadata": {
        "id": "pTuX3dtPmBbf"
      }
    },
    {
      "cell_type": "code",
      "source": [
        "element = meal_dict.pop ('drink')\n",
        "# we no longer have a 'drink' in our dictionary :-(\n",
        "print ('Drink was:', element)\n",
        "print ('Dictionary is now:', meal_dict)"
      ],
      "metadata": {
        "id": "siezeIdJEaJu",
        "colab": {
          "base_uri": "https://localhost:8080/"
        },
        "outputId": "5ce35df0-d37c-41ee-e6c1-aab959fa8810"
      },
      "execution_count": 7,
      "outputs": [
        {
          "output_type": "stream",
          "name": "stdout",
          "text": [
            "Drink was: Lemonade\n",
            "Dictionary is now: {'starter': 'Bruschetta', 'aperitif': 'Pinneau', 'main': 'Seafood Pasta', 'dessert': 'Tiramisu'}\n"
          ]
        }
      ]
    },
    {
      "cell_type": "markdown",
      "source": [
        "The `keys()` method gives the list of keys in the dictionary:"
      ],
      "metadata": {
        "id": "Z1rvKxwPmZac"
      }
    },
    {
      "cell_type": "code",
      "source": [
        "print (list (meal_dict.keys()))"
      ],
      "metadata": {
        "id": "CEUpkleZmk7S",
        "colab": {
          "base_uri": "https://localhost:8080/"
        },
        "outputId": "e86be56f-5a71-4d39-e6a4-40da205c5f65"
      },
      "execution_count": 8,
      "outputs": [
        {
          "output_type": "stream",
          "name": "stdout",
          "text": [
            "['starter', 'aperitif', 'main', 'dessert']\n"
          ]
        }
      ]
    },
    {
      "cell_type": "markdown",
      "source": [
        "The `values()` method gives the corresponding list of values from the dictionary:\n"
      ],
      "metadata": {
        "id": "2H-kNg1dmgOY"
      }
    },
    {
      "cell_type": "code",
      "source": [
        "print(list(meal_dict.values()))"
      ],
      "metadata": {
        "id": "_QB56HDWmmjj",
        "colab": {
          "base_uri": "https://localhost:8080/"
        },
        "outputId": "5d270976-73fa-499a-a745-37f3c1e651b6"
      },
      "execution_count": 9,
      "outputs": [
        {
          "output_type": "stream",
          "name": "stdout",
          "text": [
            "['Bruschetta', 'Pinneau', 'Seafood Pasta', 'Tiramisu']\n"
          ]
        }
      ]
    },
    {
      "cell_type": "markdown",
      "source": [
        "The `items()` method produces a list of (key, value) pairs:"
      ],
      "metadata": {
        "id": "vXbpeI-qmpQt"
      }
    },
    {
      "cell_type": "code",
      "source": [
        "print (list (meal_dict.items()))"
      ],
      "metadata": {
        "colab": {
          "base_uri": "https://localhost:8080/"
        },
        "id": "aiVvkDYHmwjB",
        "outputId": "38a98c73-6bce-418f-dabf-5311980ac56a"
      },
      "execution_count": 10,
      "outputs": [
        {
          "output_type": "stream",
          "name": "stdout",
          "text": [
            "[('starter', 'Bruschetta'), ('aperitif', 'Pinneau'), ('main', 'Seafood Pasta'), ('dessert', 'Tiramisu')]\n"
          ]
        }
      ]
    },
    {
      "cell_type": "markdown",
      "source": [
        "The `get()` method is sometimes preferable to the direct method (square brackets) because if the key doesn't exist `get()` will return 'None' rather than an error:"
      ],
      "metadata": {
        "id": "ooWW32qSmzes"
      }
    },
    {
      "cell_type": "code",
      "source": [
        "y = meal_dict.get ('pudding')\n",
        "print (y)"
      ],
      "metadata": {
        "colab": {
          "base_uri": "https://localhost:8080/"
        },
        "id": "M2BEnKB2mZAs",
        "outputId": "e85f5e07-2cab-4920-cb88-6bed3da850a0"
      },
      "execution_count": 11,
      "outputs": [
        {
          "output_type": "stream",
          "name": "stdout",
          "text": [
            "None\n"
          ]
        }
      ]
    },
    {
      "cell_type": "markdown",
      "source": [
        "The `update()` method gives us a way of changing/updating items in a dictionary. Consider two dictionaries:\n"
      ],
      "metadata": {
        "id": "B76IJigim-JQ"
      }
    },
    {
      "cell_type": "code",
      "source": [
        "clinic_data = {'123456Z': 25.1, '234567Y':19.2, '345678X': 28.1 }\n",
        "more_clinic_data = {'456789W':27.0, '567890V':24.4}\n",
        "\n",
        "# upate clinic_data_1 with more_clinic_data:\n",
        "clinic_data.update (more_clinic_data)\n",
        "print (clinic_data)"
      ],
      "metadata": {
        "id": "SibaoiR9Et7u",
        "colab": {
          "base_uri": "https://localhost:8080/"
        },
        "outputId": "1d5d544a-2a36-4fef-bc46-8894e6b0fe71"
      },
      "execution_count": 12,
      "outputs": [
        {
          "output_type": "stream",
          "name": "stdout",
          "text": [
            "{'123456Z': 25.1, '234567Y': 19.2, '345678X': 28.1, '456789W': 27.0, '567890V': 24.4}\n"
          ]
        }
      ]
    },
    {
      "cell_type": "markdown",
      "source": [
        "### Exercise 1\n",
        "\n",
        "Use a *list* comprehension to extract the keys and values from `meal_dict`."
      ],
      "metadata": {
        "id": "NvB-ozVMGRAg"
      }
    },
    {
      "cell_type": "code",
      "source": [
        "for k,v in meal_dict.items():\n",
        "  print (k,v)\n",
        "\n",
        "\n",
        "\n"
      ],
      "metadata": {
        "id": "yRmcMzXiHDtR",
        "colab": {
          "base_uri": "https://localhost:8080/"
        },
        "outputId": "99890d42-2260-4000-c4b7-3ce2d1cb9cbb"
      },
      "execution_count": 13,
      "outputs": [
        {
          "output_type": "stream",
          "name": "stdout",
          "text": [
            "starter Bruschetta\n",
            "aperitif Pinneau\n",
            "main Seafood Pasta\n",
            "dessert Tiramisu\n"
          ]
        }
      ]
    },
    {
      "cell_type": "markdown",
      "source": [
        "## Comprehensions in Dictionaries\n",
        "\n",
        "We have come across the very useful concept of comprehensions applied to lists. Similarly, we can use comprehensions for dictionaries.\n",
        "\n",
        "Let's make a dictionary from 2 lists:"
      ],
      "metadata": {
        "id": "X7b8FUWaimfb"
      }
    },
    {
      "cell_type": "code",
      "source": [
        "hosp_numbers = ['564327X','734767Z', '7776664B', '324890N', '985674K']\n",
        "BMIs = [20.1,15.3,17.7, 25.5,30.0]\n",
        "\n",
        "# this dictionary comprehension creates a dictionary where 'a' is the key and 'b' is the value.\n",
        "# the zip() function creates an iterable combining hosp_numbers and BMIs\n",
        "pat_details= { a:b for a,b in zip(hosp_numbers, BMIs) }\n",
        "\n",
        "print (pat_details)\n",
        "print (pat_details.get ('564327X'))"
      ],
      "metadata": {
        "id": "kyWOVXmHzPgE",
        "colab": {
          "base_uri": "https://localhost:8080/"
        },
        "outputId": "876f1a14-92e7-44cd-e447-735b6e5a364e"
      },
      "execution_count": 14,
      "outputs": [
        {
          "output_type": "stream",
          "name": "stdout",
          "text": [
            "{'564327X': 20.1, '734767Z': 15.3, '7776664B': 17.7, '324890N': 25.5, '985674K': 30.0}\n",
            "20.1\n"
          ]
        }
      ]
    },
    {
      "cell_type": "code",
      "source": [
        "# calculate the mean BMI across our patient sample using the sum() function:\n",
        "mean_BMI = sum (pat_details.values()) / len(pat_details)\n",
        "print (mean_BMI)"
      ],
      "metadata": {
        "id": "0ZsxBN0dF1Ou",
        "colab": {
          "base_uri": "https://localhost:8080/"
        },
        "outputId": "a71e670c-d5bf-4c1a-c023-37658b981617"
      },
      "execution_count": 16,
      "outputs": [
        {
          "output_type": "stream",
          "name": "stdout",
          "text": [
            "21.72\n"
          ]
        }
      ]
    },
    {
      "cell_type": "markdown",
      "source": [
        "### Exercise 2\n",
        "\n",
        "Can you create the dictionary `pat_details` using a `for` loop instead of a dictionary comprehension?"
      ],
      "metadata": {
        "id": "LaFd_qGPt7KI"
      }
    },
    {
      "cell_type": "code",
      "source": [
        "for x,y in zip(hosp_numbers,BMIs):\n",
        "    pat_details = (x,y)\n",
        "    print (pat_details)"
      ],
      "metadata": {
        "id": "LoZICw4MK5KL",
        "colab": {
          "base_uri": "https://localhost:8080/"
        },
        "outputId": "7c8687da-7288-4ec0-c6ea-31d3f44e270e"
      },
      "execution_count": 17,
      "outputs": [
        {
          "output_type": "stream",
          "name": "stdout",
          "text": [
            "('564327X', 20.1)\n",
            "('734767Z', 15.3)\n",
            "('7776664B', 17.7)\n",
            "('324890N', 25.5)\n",
            "('985674K', 30.0)\n"
          ]
        }
      ]
    },
    {
      "cell_type": "markdown",
      "source": [
        "### Nested Dictionairies\n",
        "\n",
        "The best way to think of a nested dictionary is as a dictionary of dictionairies. It's a useful concept because we can store data as if in a Table  with row or column headings. Imagine we have a group of patient ids and under each id we want to put appropriate information about the patient (sex, forename, surname, dob, date of last clinic visit, BMI etc). We can create a dictionary for each patient and populate with the other data. In this example we create a dictionary of patient ids and for each patient id we create a dictionary of patient details.\n"
      ],
      "metadata": {
        "id": "6XwLsMbiCeQG"
      }
    },
    {
      "cell_type": "code",
      "source": [
        "pats = {'789563A': {'forename': 'John', 'surname': 'Smith', 'sex': 'Male' ,'dob': '27/07/2000', 'LastVisit':'21/06/2022', 'BMILastVisit': 27.1},\n",
        "        '987654B': {'forename': 'Johanna', 'surname': 'Smithson', 'sex': 'Female' ,'dob': '26/06/1985', 'LastVisit':'10/06/2023', 'BMILastVisit':18.9},\n",
        "        '363421C': {'forename': 'Jason', 'surname': 'Smithy', 'sex': 'Male' ,'dob': '25/05/1990', 'LastVisit':'20/03/2023', 'BMILastVisit':17.8},\n",
        "        '456789D': {'forename': 'Sarah', 'surname': 'Smith-Beaumont', 'sex': 'Female' ,'dob': '13/07/1986', 'LastVisit':'10/06/2023', 'BMILastVisit':28.3}}\n",
        "\n",
        "print (pats)"
      ],
      "metadata": {
        "id": "waTtVK7nH3Kr",
        "colab": {
          "base_uri": "https://localhost:8080/"
        },
        "outputId": "780e6bf3-8614-4c22-b9b5-c68bd25433c2"
      },
      "execution_count": 18,
      "outputs": [
        {
          "output_type": "stream",
          "name": "stdout",
          "text": [
            "{'789563A': {'forename': 'John', 'surname': 'Smith', 'sex': 'Male', 'dob': '27/07/2000', 'LastVisit': '21/06/2022', 'BMILastVisit': 27.1}, '987654B': {'forename': 'Johanna', 'surname': 'Smithson', 'sex': 'Female', 'dob': '26/06/1985', 'LastVisit': '10/06/2023', 'BMILastVisit': 18.9}, '363421C': {'forename': 'Jason', 'surname': 'Smithy', 'sex': 'Male', 'dob': '25/05/1990', 'LastVisit': '20/03/2023', 'BMILastVisit': 17.8}, '456789D': {'forename': 'Sarah', 'surname': 'Smith-Beaumont', 'sex': 'Female', 'dob': '13/07/1986', 'LastVisit': '10/06/2023', 'BMILastVisit': 28.3}}\n"
          ]
        }
      ]
    },
    {
      "cell_type": "markdown",
      "source": [
        "We can present this information in a more digestible format. We can access all the 1st level keys in `pats` (`id`) and draw out each nested dictionary (`record`):\n"
      ],
      "metadata": {
        "id": "uC_xUx6_GSJO"
      }
    },
    {
      "cell_type": "code",
      "source": [
        "for id,record in pats.items():\n",
        "  print (f'patient: {id}')\n",
        "  for entry,data in record.items():\n",
        "    print (f'  {entry:>16}: {data}')\n",
        "  print ('')"
      ],
      "metadata": {
        "colab": {
          "base_uri": "https://localhost:8080/"
        },
        "id": "Ibhk_4HOpLvV",
        "outputId": "98c27cc1-e9b8-49ef-a098-e8a5337bea73"
      },
      "execution_count": 19,
      "outputs": [
        {
          "output_type": "stream",
          "name": "stdout",
          "text": [
            "patient: 789563A\n",
            "          forename: John\n",
            "           surname: Smith\n",
            "               sex: Male\n",
            "               dob: 27/07/2000\n",
            "         LastVisit: 21/06/2022\n",
            "      BMILastVisit: 27.1\n",
            "\n",
            "patient: 987654B\n",
            "          forename: Johanna\n",
            "           surname: Smithson\n",
            "               sex: Female\n",
            "               dob: 26/06/1985\n",
            "         LastVisit: 10/06/2023\n",
            "      BMILastVisit: 18.9\n",
            "\n",
            "patient: 363421C\n",
            "          forename: Jason\n",
            "           surname: Smithy\n",
            "               sex: Male\n",
            "               dob: 25/05/1990\n",
            "         LastVisit: 20/03/2023\n",
            "      BMILastVisit: 17.8\n",
            "\n",
            "patient: 456789D\n",
            "          forename: Sarah\n",
            "           surname: Smith-Beaumont\n",
            "               sex: Female\n",
            "               dob: 13/07/1986\n",
            "         LastVisit: 10/06/2023\n",
            "      BMILastVisit: 28.3\n",
            "\n"
          ]
        }
      ]
    },
    {
      "cell_type": "markdown",
      "source": [
        "You might want to access elements in the dictionary. You can do this directly with the following formulation:\n"
      ],
      "metadata": {
        "id": "-X0X30JAovrm"
      }
    },
    {
      "cell_type": "code",
      "source": [
        "print (pats['363421C']['sex'])\n",
        "print (pats['789563A']['BMILastVisit'])"
      ],
      "metadata": {
        "id": "4Eq3zP-4GQlo",
        "colab": {
          "base_uri": "https://localhost:8080/"
        },
        "outputId": "dbe3044e-6778-4616-fb6a-c14f3cf203c6"
      },
      "execution_count": 20,
      "outputs": [
        {
          "output_type": "stream",
          "name": "stdout",
          "text": [
            "Male\n",
            "27.1\n"
          ]
        }
      ]
    },
    {
      "cell_type": "markdown",
      "source": [
        "You can add more data. Here we add a record for a new patient:"
      ],
      "metadata": {
        "id": "sT6MPoHqo0NF"
      }
    },
    {
      "cell_type": "code",
      "source": [
        "pats['786543Z'] = {'forename': 'Angelina', 'Surname': 'Jacobs', 'sex': 'Female' ,'dob': '12/03/1964', 'LastVisit':'10/01/2022', 'BMILastVisit':19.0}\n",
        "\n",
        "print (pats)"
      ],
      "metadata": {
        "colab": {
          "base_uri": "https://localhost:8080/"
        },
        "id": "s1omIUofo2jB",
        "outputId": "e58b54d9-22c2-4230-dd60-60878d9cec52"
      },
      "execution_count": 21,
      "outputs": [
        {
          "output_type": "stream",
          "name": "stdout",
          "text": [
            "{'789563A': {'forename': 'John', 'surname': 'Smith', 'sex': 'Male', 'dob': '27/07/2000', 'LastVisit': '21/06/2022', 'BMILastVisit': 27.1}, '987654B': {'forename': 'Johanna', 'surname': 'Smithson', 'sex': 'Female', 'dob': '26/06/1985', 'LastVisit': '10/06/2023', 'BMILastVisit': 18.9}, '363421C': {'forename': 'Jason', 'surname': 'Smithy', 'sex': 'Male', 'dob': '25/05/1990', 'LastVisit': '20/03/2023', 'BMILastVisit': 17.8}, '456789D': {'forename': 'Sarah', 'surname': 'Smith-Beaumont', 'sex': 'Female', 'dob': '13/07/1986', 'LastVisit': '10/06/2023', 'BMILastVisit': 28.3}, '786543Z': {'forename': 'Angelina', 'Surname': 'Jacobs', 'sex': 'Female', 'dob': '12/03/1964', 'LastVisit': '10/01/2022', 'BMILastVisit': 19.0}}\n"
          ]
        }
      ]
    },
    {
      "cell_type": "markdown",
      "source": [
        "### Exercise 3\n",
        "\n",
        "Can you write code to calculate the mean BMI from the patients in the dictionary 'pats'?"
      ],
      "metadata": {
        "id": "6U7RdB3fQB24"
      }
    },
    {
      "cell_type": "code",
      "source": [
        "total_bmi = 0\n",
        "print(len(pats))\n",
        "for x in pats.values():\n",
        "  bmi = x['BMILastVisit']\n",
        "  total_bmi = bmi + total_bmi\n",
        "mean_bmi = total_bmi/len(pats)\n",
        "print (mean_bmi)\n"
      ],
      "metadata": {
        "id": "xeIegmlEPyEy",
        "colab": {
          "base_uri": "https://localhost:8080/"
        },
        "outputId": "7d9f9fe6-4df8-4ea1-c44e-0f017afdbed2"
      },
      "execution_count": 27,
      "outputs": [
        {
          "output_type": "stream",
          "name": "stdout",
          "text": [
            "5\n",
            "22.22\n"
          ]
        }
      ]
    },
    {
      "cell_type": "markdown",
      "source": [
        "## Tuples\n",
        "\n",
        "The next iterable we will look at is the tuple. Tuples are very like lists in that they are indexed, and they can contain more than a single variable type. The main difference is that they are *immutable*, meaning that you cannot change the content of a tuple. So, why use them? They are more memory efficent than lists, and it's a little bit quicker to access the elements.\n",
        "\n",
        "Tuples are written with *round* brackets:"
      ],
      "metadata": {
        "id": "lWgIN_xT0LZZ"
      }
    },
    {
      "cell_type": "code",
      "source": [
        "# The hospital number of a patient is unique and you should not wish to change it.\n",
        "HospNumbers = ('564327X','734767Z', '7776664B', '324890N', '985674K')\n",
        "for x in HospNumbers:\n",
        "    print(x)"
      ],
      "metadata": {
        "colab": {
          "base_uri": "https://localhost:8080/"
        },
        "outputId": "0f668ceb-d825-4635-e0bd-be52631303dd",
        "id": "OhBktT9o0LZZ"
      },
      "execution_count": null,
      "outputs": [
        {
          "output_type": "stream",
          "name": "stdout",
          "text": [
            "564327X\n",
            "734767Z\n",
            "7776664B\n",
            "324890N\n",
            "985674K\n"
          ]
        }
      ]
    },
    {
      "cell_type": "markdown",
      "source": [
        "You can find the index of a certain value within the tuple:\n"
      ],
      "metadata": {
        "id": "wk458T3v0LZZ"
      }
    },
    {
      "cell_type": "code",
      "source": [
        "print (HospNumbers.index('734767Z'))"
      ],
      "metadata": {
        "colab": {
          "base_uri": "https://localhost:8080/"
        },
        "outputId": "9adceec4-216e-4796-98a7-0ede58b7416b",
        "id": "cxLPMmf10LZZ"
      },
      "execution_count": null,
      "outputs": [
        {
          "output_type": "stream",
          "name": "stdout",
          "text": [
            "1\n"
          ]
        }
      ]
    },
    {
      "cell_type": "markdown",
      "source": [
        "You can assign individual elements of a tuple to another variable:\n"
      ],
      "metadata": {
        "id": "k9lVNYVk0LZZ"
      }
    },
    {
      "cell_type": "code",
      "source": [
        "y = HospNumbers[0]\n",
        "print (y)"
      ],
      "metadata": {
        "colab": {
          "base_uri": "https://localhost:8080/"
        },
        "outputId": "12f2f732-e3a8-4440-e6d1-ca1b3ce6e143",
        "id": "qaMvdjH_0LZZ"
      },
      "execution_count": null,
      "outputs": [
        {
          "output_type": "stream",
          "name": "stdout",
          "text": [
            "564327X\n"
          ]
        }
      ]
    },
    {
      "cell_type": "markdown",
      "source": [
        "You can convert a tuple to a list:\n"
      ],
      "metadata": {
        "id": "JRApVMgM0LZZ"
      }
    },
    {
      "cell_type": "code",
      "source": [
        "HospNumbersList = list(HospNumbers)\n",
        "\n",
        "print (HospNumbersList)"
      ],
      "metadata": {
        "colab": {
          "base_uri": "https://localhost:8080/"
        },
        "outputId": "37eefb81-2554-4ab2-9d40-9af9214e2b77",
        "id": "iq1N_LaT0LZa"
      },
      "execution_count": null,
      "outputs": [
        {
          "output_type": "stream",
          "name": "stdout",
          "text": [
            "['564327X', '734767Z', '7776664B', '324890N', '985674K']\n"
          ]
        }
      ]
    },
    {
      "cell_type": "markdown",
      "source": [
        "Here's another list (tuple) of what could be considered immutable values of individuals: birth dates\n"
      ],
      "metadata": {
        "id": "gKDfK-Lw0LZa"
      }
    },
    {
      "cell_type": "code",
      "source": [
        "DoBs = ('20/05/2000','20/05/2007', '31/01/1956', '25/12/1999', '01/01/2001')\n",
        "\n",
        "# we can associate HospNumbers and DoBs by applying zip()\n",
        "\n",
        "pat_data = tuple (zip (HospNumbers, DoBs))\n",
        "\n",
        "# you can see that PatData is a tuple of Tuples:\n",
        "print (pat_data)"
      ],
      "metadata": {
        "colab": {
          "base_uri": "https://localhost:8080/"
        },
        "outputId": "84abe21b-9dcd-484d-95b1-7ce038c7b2cf",
        "id": "NsuPZJYt0LZa"
      },
      "execution_count": null,
      "outputs": [
        {
          "output_type": "stream",
          "name": "stdout",
          "text": [
            "(('564327X', '20/05/2000'), ('734767Z', '20/05/2007'), ('7776664B', '31/01/1956'), ('324890N', '25/12/1999'), ('985674K', '01/01/2001'))\n"
          ]
        }
      ]
    },
    {
      "cell_type": "markdown",
      "source": [
        "You can access each element within that list (tuple) by multiple indexing\n"
      ],
      "metadata": {
        "id": "8kc5EP670LZa"
      }
    },
    {
      "cell_type": "code",
      "source": [
        "print (pat_data[0][1])"
      ],
      "metadata": {
        "colab": {
          "base_uri": "https://localhost:8080/"
        },
        "outputId": "31e8aec0-6842-4d8f-e5c7-e37bf8bb67c0",
        "id": "ttRDAoTZ0LZa"
      },
      "execution_count": null,
      "outputs": [
        {
          "output_type": "stream",
          "name": "stdout",
          "text": [
            "20/05/2000\n"
          ]
        }
      ]
    },
    {
      "cell_type": "markdown",
      "source": [
        "### Exercise 4\n",
        "\n",
        "Use `for` loops to print out each element of `pat_data`."
      ],
      "metadata": {
        "id": "KJ8hfQpU0LZa"
      }
    },
    {
      "cell_type": "code",
      "source": [
        "#write your code here"
      ],
      "metadata": {
        "id": "uU1U2gth0LZa"
      },
      "execution_count": null,
      "outputs": []
    },
    {
      "cell_type": "markdown",
      "source": [
        "## Sets\n",
        "\n",
        "Another iterable is `set`. In maths, 'sets' contain immutable members of a group. For example, the set of integers between 1 and 100 that are divisible by 2. You could also have a set of square numbers between 1 and 100. In this case, the members are *unordered*, *unindexed*, and *unique* (no duplicates).\n",
        "\n"
      ],
      "metadata": {
        "id": "yA1qIqTPwH9o"
      }
    },
    {
      "cell_type": "code",
      "source": [
        "# Note how an empty set is defined\n",
        "divisibleby2 = set()\n",
        "\n",
        "# add all integers to the set that are between 1 and 101 divisible by 2\n",
        "for i in range (1,101):\n",
        "  if not i%2:\n",
        "    # you can add elements to a set:\n",
        "    divisibleby2.add (i)\n",
        "\n",
        "print (divisibleby2)"
      ],
      "metadata": {
        "id": "NRfA2d0f6Z0A",
        "colab": {
          "base_uri": "https://localhost:8080/"
        },
        "outputId": "8cd8292f-7ee2-4dd2-8589-3bd87eaee5ea"
      },
      "execution_count": null,
      "outputs": [
        {
          "output_type": "stream",
          "name": "stdout",
          "text": [
            "{2, 4, 6, 8, 10, 12, 14, 16, 18, 20, 22, 24, 26, 28, 30, 32, 34, 36, 38, 40, 42, 44, 46, 48, 50, 52, 54, 56, 58, 60, 62, 64, 66, 68, 70, 72, 74, 76, 78, 80, 82, 84, 86, 88, 90, 92, 94, 96, 98, 100}\n"
          ]
        }
      ]
    },
    {
      "cell_type": "code",
      "source": [
        "#create a set of all square numbers up to 101\n",
        "squaresto100 = set()\n",
        "\n",
        "i=1\n",
        "while (i**2<101):\n",
        "  squaresto100.add (i**2)\n",
        "  i+=1\n",
        "\n",
        "print (squaresto100)"
      ],
      "metadata": {
        "id": "AnSsBA9iBh7B",
        "colab": {
          "base_uri": "https://localhost:8080/"
        },
        "outputId": "f84a2959-5b58-4549-b68e-2a384d9d8803"
      },
      "execution_count": null,
      "outputs": [
        {
          "output_type": "stream",
          "name": "stdout",
          "text": [
            "{64, 1, 4, 36, 100, 9, 16, 49, 81, 25}\n"
          ]
        }
      ]
    },
    {
      "cell_type": "markdown",
      "source": [
        "Note that the order of the elements is not guaranteed to follow the order they were added to the set."
      ],
      "metadata": {
        "id": "319hsO5_hXwj"
      }
    },
    {
      "cell_type": "markdown",
      "source": [
        "### operations on `set`\n",
        "\n",
        "The `intersection()` method computes the intersection of two sets. We can also use the `&` operator:"
      ],
      "metadata": {
        "id": "n9JVmXYphf5Y"
      }
    },
    {
      "cell_type": "code",
      "source": [
        "print (divisibleby2.intersection (squaresto100))\n",
        "print (divisibleby2 & squaresto100)"
      ],
      "metadata": {
        "id": "praEVwxMBsjL",
        "colab": {
          "base_uri": "https://localhost:8080/"
        },
        "outputId": "d00da2df-34a4-46d0-c31f-94c7a66f9448"
      },
      "execution_count": null,
      "outputs": [
        {
          "output_type": "stream",
          "name": "stdout",
          "text": [
            "{64, 100, 4, 36, 16}\n",
            "{64, 100, 4, 36, 16}\n"
          ]
        }
      ]
    },
    {
      "cell_type": "markdown",
      "source": [
        "The `union()` method computes the union of two sets. We can also use the `|` operator:"
      ],
      "metadata": {
        "id": "1aY17Gy1h1GD"
      }
    },
    {
      "cell_type": "code",
      "source": [
        "print (divisibleby2.union (squaresto100))\n",
        "print (divisibleby2 | squaresto100)"
      ],
      "metadata": {
        "colab": {
          "base_uri": "https://localhost:8080/"
        },
        "id": "aUAvinmIhyFf",
        "outputId": "6951434b-28fd-42b1-b901-c3a3276bde9e"
      },
      "execution_count": null,
      "outputs": [
        {
          "output_type": "stream",
          "name": "stdout",
          "text": [
            "{1, 2, 4, 6, 8, 9, 10, 12, 14, 16, 18, 20, 22, 24, 25, 26, 28, 30, 32, 34, 36, 38, 40, 42, 44, 46, 48, 49, 50, 52, 54, 56, 58, 60, 62, 64, 66, 68, 70, 72, 74, 76, 78, 80, 81, 82, 84, 86, 88, 90, 92, 94, 96, 98, 100}\n",
            "{1, 2, 4, 6, 8, 9, 10, 12, 14, 16, 18, 20, 22, 24, 25, 26, 28, 30, 32, 34, 36, 38, 40, 42, 44, 46, 48, 49, 50, 52, 54, 56, 58, 60, 62, 64, 66, 68, 70, 72, 74, 76, 78, 80, 81, 82, 84, 86, 88, 90, 92, 94, 96, 98, 100}\n"
          ]
        }
      ]
    },
    {
      "cell_type": "markdown",
      "source": [
        "We can identify all elements in `divisibleby2` that are not in `squaresto100` using the `-` operator:"
      ],
      "metadata": {
        "id": "uQ-lPmCph_w5"
      }
    },
    {
      "cell_type": "code",
      "source": [
        "print (divisibleby2.difference (squaresto100))\n",
        "print (divisibleby2 - squaresto100)"
      ],
      "metadata": {
        "colab": {
          "base_uri": "https://localhost:8080/"
        },
        "id": "9hDL_Q_giAPr",
        "outputId": "e33772d7-724c-4a06-f459-b9e3872d4af0"
      },
      "execution_count": null,
      "outputs": [
        {
          "output_type": "stream",
          "name": "stdout",
          "text": [
            "{2, 6, 8, 10, 12, 14, 18, 20, 22, 24, 26, 28, 30, 32, 34, 38, 40, 42, 44, 46, 48, 50, 52, 54, 56, 58, 60, 62, 66, 68, 70, 72, 74, 76, 78, 80, 82, 84, 86, 88, 90, 92, 94, 96, 98}\n",
            "{2, 6, 8, 10, 12, 14, 18, 20, 22, 24, 26, 28, 30, 32, 34, 38, 40, 42, 44, 46, 48, 50, 52, 54, 56, 58, 60, 62, 66, 68, 70, 72, 74, 76, 78, 80, 82, 84, 86, 88, 90, 92, 94, 96, 98}\n"
          ]
        }
      ]
    },
    {
      "cell_type": "markdown",
      "source": [
        "We can use the `ymmetric difference()` method to identify all elements in `divisibleby2` that are not in `squaresto100` and vice-versa:"
      ],
      "metadata": {
        "id": "Bsm3bLquiKlv"
      }
    },
    {
      "cell_type": "code",
      "source": [
        "print (divisibleby2.symmetric_difference (squaresto100))"
      ],
      "metadata": {
        "colab": {
          "base_uri": "https://localhost:8080/"
        },
        "id": "sQMZxP9ZiK13",
        "outputId": "c55c3afb-c22f-46df-d690-d531011e54bd"
      },
      "execution_count": null,
      "outputs": [
        {
          "output_type": "stream",
          "name": "stdout",
          "text": [
            "{1, 2, 6, 8, 9, 10, 12, 14, 18, 20, 22, 24, 25, 26, 28, 30, 32, 34, 38, 40, 42, 44, 46, 48, 49, 50, 52, 54, 56, 58, 60, 62, 66, 68, 70, 72, 74, 76, 78, 80, 81, 82, 84, 86, 88, 90, 92, 94, 96, 98}\n"
          ]
        }
      ]
    },
    {
      "cell_type": "markdown",
      "source": [
        "The `discard()` method is used to remove a specific instance from the set:"
      ],
      "metadata": {
        "id": "dKRAj_26iY2e"
      }
    },
    {
      "cell_type": "code",
      "source": [
        "divisibleby2.discard (6)\n",
        "print (divisibleby2)"
      ],
      "metadata": {
        "id": "sCGM_Jr2B9VO",
        "colab": {
          "base_uri": "https://localhost:8080/"
        },
        "outputId": "42a9f9e0-473a-444b-ef34-490006ff51ef"
      },
      "execution_count": null,
      "outputs": [
        {
          "output_type": "stream",
          "name": "stdout",
          "text": [
            "{2, 4, 8, 10, 12, 14, 16, 18, 20, 22, 24, 26, 28, 30, 32, 34, 36, 38, 40, 42, 44, 46, 48, 50, 52, 54, 56, 58, 60, 62, 64, 66, 68, 70, 72, 74, 76, 78, 80, 82, 84, 86, 88, 90, 92, 94, 96, 98, 100}\n"
          ]
        }
      ]
    },
    {
      "cell_type": "markdown",
      "source": [
        "The `remove()` method is a bit like `discard()`, but will throw an error if the element isn't present:"
      ],
      "metadata": {
        "id": "0P3Vt4vSigni"
      }
    },
    {
      "cell_type": "code",
      "source": [
        "divisibleby2.remove (9)\n",
        "print (divisibleby2)"
      ],
      "metadata": {
        "colab": {
          "base_uri": "https://localhost:8080/",
          "height": 159
        },
        "id": "MPv5MMNfikOD",
        "outputId": "261d49d8-b023-4089-8b11-9a50f28729b9"
      },
      "execution_count": null,
      "outputs": [
        {
          "output_type": "error",
          "ename": "KeyError",
          "evalue": "9",
          "traceback": [
            "\u001b[0;31m---------------------------------------------------------------------------\u001b[0m",
            "\u001b[0;31mKeyError\u001b[0m                                  Traceback (most recent call last)",
            "\u001b[0;32m/tmp/ipython-input-4032777141.py\u001b[0m in \u001b[0;36m<cell line: 0>\u001b[0;34m()\u001b[0m\n\u001b[0;32m----> 1\u001b[0;31m \u001b[0mdivisibleby2\u001b[0m\u001b[0;34m.\u001b[0m\u001b[0mremove\u001b[0m \u001b[0;34m(\u001b[0m\u001b[0;36m9\u001b[0m\u001b[0;34m)\u001b[0m\u001b[0;34m\u001b[0m\u001b[0;34m\u001b[0m\u001b[0m\n\u001b[0m\u001b[1;32m      2\u001b[0m \u001b[0mprint\u001b[0m \u001b[0;34m(\u001b[0m\u001b[0mdivisibleby2\u001b[0m\u001b[0;34m)\u001b[0m\u001b[0;34m\u001b[0m\u001b[0;34m\u001b[0m\u001b[0m\n",
            "\u001b[0;31mKeyError\u001b[0m: 9"
          ]
        }
      ]
    },
    {
      "cell_type": "markdown",
      "source": [
        "Let's consider some examples of using sets with a more practical flavour.\n",
        "\n",
        "Remember our list of Hospital Numbers?\n"
      ],
      "metadata": {
        "id": "eFBtnfbZi59s"
      }
    },
    {
      "cell_type": "code",
      "source": [
        "HospNumbersList.append ('7776664B')\n",
        "print (HospNumbersList)"
      ],
      "metadata": {
        "id": "z56dfVYzCSki",
        "colab": {
          "base_uri": "https://localhost:8080/"
        },
        "outputId": "9776b27b-66ba-44e1-a170-48be0d1b22af"
      },
      "execution_count": null,
      "outputs": [
        {
          "output_type": "stream",
          "name": "stdout",
          "text": [
            "['564327X', '734767Z', '7776664B', '324890N', '985674K', '7776664B']\n"
          ]
        }
      ]
    },
    {
      "cell_type": "markdown",
      "source": [
        "Now we have two hospital numbers that are the same. We can use `set` to remove duplicate values:\n"
      ],
      "metadata": {
        "id": "PMZfNLrni_tA"
      }
    },
    {
      "cell_type": "code",
      "source": [
        "print (list (set (HospNumbersList)))"
      ],
      "metadata": {
        "colab": {
          "base_uri": "https://localhost:8080/"
        },
        "id": "mgooeIdejAI4",
        "outputId": "71f18891-d16d-459e-a201-d56524cffe1e"
      },
      "execution_count": null,
      "outputs": [
        {
          "output_type": "stream",
          "name": "stdout",
          "text": [
            "['734767Z', '985674K', '7776664B', '564327X', '324890N']\n"
          ]
        }
      ]
    },
    {
      "cell_type": "markdown",
      "source": [
        "Here's another example. Every patient coming into your unit has a diagnosis. You might want to create a set of diagnoses that are seen by your unit. You could use such information to create a diagnosis table in a database.\n"
      ],
      "metadata": {
        "id": "Ch6xWu7Ij4om"
      }
    },
    {
      "cell_type": "code",
      "source": [
        "PatDetails= [('123456A', '01/01/2000', 'Achondroplasia'), ('234567B', '02/02/2001', 'Brachycardia'), ('345678C', '03/03/2002', 'Cystic Fibrosis'), ('456789D', '04/04/2004', 'Cerebral Palsy'), ('567890E', '05/05/2005', 'Bradycardia'), ('678901F','06/06/2006', 'Cystic Fibrosis')]\n",
        "DiagnosesSet = set()\n",
        "for x in PatDetails:\n",
        "   # takes the third element of each tuple in PatDetails\n",
        "   # and adds it to the set. Removes any duplicate values.\n",
        "  DiagnosesSet.add (x[2])\n",
        "print (DiagnosesSet)"
      ],
      "metadata": {
        "id": "wYJIOC8-CboX",
        "colab": {
          "base_uri": "https://localhost:8080/"
        },
        "outputId": "36960523-87ef-4e42-c246-3015de3b2b32"
      },
      "execution_count": null,
      "outputs": [
        {
          "output_type": "stream",
          "name": "stdout",
          "text": [
            "{'Cystic Fibrosis', 'Bradycardia', 'Achondroplasia', 'Cerebral Palsy', 'Brachycardia'}\n"
          ]
        }
      ]
    },
    {
      "cell_type": "markdown",
      "source": [
        "### Exercise 5\n",
        "\n",
        "Look up the `issubset()` and `issuperset()` methods and apply to  two sets that you have made up. Print out your results."
      ],
      "metadata": {
        "id": "uFaOJO9FIflv"
      }
    },
    {
      "cell_type": "code",
      "source": [
        "# write your code here"
      ],
      "metadata": {
        "id": "AMCiEv41kfuR"
      },
      "execution_count": null,
      "outputs": []
    },
    {
      "cell_type": "markdown",
      "source": [
        "# Functions\n",
        "\n",
        "It is a little bit inconvenient to keep writing the same code like the complex BMI example from the previous session. In [functional programming](https://en.wikipedia.org/wiki/Functional_programming), one tries to break down a program into reusable functional units (where each function has specified inputs and returns specified outputs). As you might imagine, there is a whole field of academia dedicated to it!\n",
        "\n",
        "For us, it means making callable routines that we can use time and time again to make our code more readable & efficient. Such [functions](https://www.geeksforgeeks.org/python/python-functions/) are very useful because they help you organise and *reuse* your code.\n"
      ],
      "metadata": {
        "id": "Du3BRei_G-uO"
      }
    },
    {
      "cell_type": "markdown",
      "source": [
        "## How to define a function"
      ],
      "metadata": {
        "id": "KzUEScOlDeH_"
      }
    },
    {
      "cell_type": "markdown",
      "source": [
        "![Untitled.png](data:image/png;base64,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)"
      ],
      "metadata": {
        "id": "IigzMW7k4m-K"
      }
    },
    {
      "cell_type": "markdown",
      "source": [
        "\n",
        "To illustrate, we will modify our BMI code (from the previous session) and insert it into a *function* that returns a string containing advice for the user:"
      ],
      "metadata": {
        "id": "YIClMgRp3-lj"
      }
    },
    {
      "cell_type": "code",
      "source": [
        "def calc_BMI_and_advise_AdultVersion (height_metres,  weight_kg):\n",
        "  \"\"\"This function takes as input the height and weight of the adult person,\n",
        "  calculates their BMI and returns a string containing some advice.\"\"\"\n",
        "  BMI = weight_kg/height_metres**2\n",
        "  # The ideal body weight for an adult:\n",
        "  IBW = 22.0*height_metres**2\n",
        "  if BMI > 30.0:\n",
        "    advice_string = f'You are obese. To get to an ideal weight of {IBW:.2f}kg, '\\\n",
        "                    f'you need to lose {weight_kg-IBW:.2f}kg'\n",
        "  elif BMI > 25.0:\n",
        "    advice_string = f'You are overweight. To get to an ideal weight of {IBW:.2f}kg, '\\\n",
        "                    f'you need to lose {weight_kg-IBW:.2f}kg'\n",
        "  elif BMI > 18.5:\n",
        "    advice_string = 'You are a healthy weight'\n",
        "  else:\n",
        "    advice_string = f'You are underweight. To get to an ideal weight of {IBW:.2f}kg, '\\\n",
        "                    f'you need to gain {IBW-weight_kg:.2f}kg'\n",
        "  return advice_string"
      ],
      "metadata": {
        "id": "V_ZVx7apI3gw"
      },
      "execution_count": null,
      "outputs": []
    },
    {
      "cell_type": "markdown",
      "source": [
        "**Notes:**\n",
        "\n",
        "- Functions are defined using the `def` keyword, followed by the *name* of the function, and then the list of *arguments* in round brackets, with a final colon (`:`)\n",
        "- The final colon is important, and signals the start of a new *code block*.\n",
        "- As with the `for` and `while` loops, the *indentation* is important as it determines which code is in which block.\n",
        "- We can *return* from the function at any point once we are done. This is normally at the end of the function, but we can use `return` statements anywhere.\n",
        "- The `return` statement is used to pass the desired output back to the code that called our function. This will often be a single variable, but can be anything we need, including a list, tuple or dictionary.\n",
        "- We can use the backslash `\\` character at the end of a line to contine the same line of code on the next physical line. This is useful in cases where your code would otherwise run over the width of your display.\n"
      ],
      "metadata": {
        "id": "iDjb5Nx79yoe"
      }
    },
    {
      "cell_type": "markdown",
      "source": [
        "We can now *invoke* or *call* our new function:"
      ],
      "metadata": {
        "id": "iVmQvJ4E9s9t"
      }
    },
    {
      "cell_type": "code",
      "source": [
        "print (calc_BMI_and_advise_AdultVersion (height_metres=1.67, weight_kg=70.0))"
      ],
      "metadata": {
        "colab": {
          "base_uri": "https://localhost:8080/"
        },
        "id": "-pr_FUQT9rnf",
        "outputId": "fc5c947a-3259-4e30-d22a-007e45071c64"
      },
      "execution_count": null,
      "outputs": [
        {
          "output_type": "stream",
          "name": "stdout",
          "text": [
            "You are overweight. To get to an ideal weight of 61.36kg, you need to lose 8.64kg\n"
          ]
        }
      ]
    },
    {
      "cell_type": "markdown",
      "source": [
        "You'll note that Python allows you to explicitly name each argument when invoking a function (we wrote `height_metres=1.67`, etc). We could have invoked the function simply as:"
      ],
      "metadata": {
        "id": "bGf4g3wRTf6g"
      }
    },
    {
      "cell_type": "code",
      "source": [
        "print (calc_BMI_and_advise_AdultVersion (1.67, 70.0))"
      ],
      "metadata": {
        "colab": {
          "base_uri": "https://localhost:8080/"
        },
        "id": "Sudrrag2Tut4",
        "outputId": "922aa910-6523-4914-e0ab-7a0651aed10b"
      },
      "execution_count": null,
      "outputs": [
        {
          "output_type": "stream",
          "name": "stdout",
          "text": [
            "You are overweight. To get to an ideal weight of 61.36kg, you need to lose 8.64kg\n"
          ]
        }
      ]
    },
    {
      "cell_type": "markdown",
      "source": [
        "... which has the same effect. While we don't *need* to explicitly name our arguments in this case, doing so really helps to make your code more readable: it's obvious what each number means when they're labelled, but not so obvious otherwise!"
      ],
      "metadata": {
        "id": "TcgF-BnZTtsx"
      }
    },
    {
      "cell_type": "markdown",
      "source": [
        "You'll also note that we placed some documentation about the function below the function declaration (the line that declares the name and arguments of the function). We could have used a comment (starting with a `#`) to do this, but Python provides a convenient mechanism to document functions and classes using [docstrings](https://www.geeksforgeeks.org/python/python-docstrings/), which are string enclosed within triple inverted commas (single or double), placed directly below the function declaration. This allows python to display the documentation using the built-in `help()` function:"
      ],
      "metadata": {
        "id": "Q05zwB-7_9OG"
      }
    },
    {
      "cell_type": "code",
      "source": [
        "help (calc_BMI_and_advise_AdultVersion)"
      ],
      "metadata": {
        "colab": {
          "base_uri": "https://localhost:8080/"
        },
        "id": "CKxJ6dcy87Rb",
        "outputId": "dc89dc3e-1068-4659-825a-a0c15086b375"
      },
      "execution_count": null,
      "outputs": [
        {
          "output_type": "stream",
          "name": "stdout",
          "text": [
            "Help on function calc_BMI_and_advise_AdultVersion in module __main__:\n",
            "\n",
            "calc_BMI_and_advise_AdultVersion(height_metres, weight_kg)\n",
            "    This function takes as input the height and weight of the adult person,\n",
            "    calculates their BMI and returns a string containing some advice.\n",
            "\n"
          ]
        }
      ]
    },
    {
      "cell_type": "markdown",
      "source": [
        "### Exercise 6\n",
        "\n",
        "Write a simple function to add `a` and `b`:"
      ],
      "metadata": {
        "id": "EbYXsFvnQUXT"
      }
    },
    {
      "cell_type": "code",
      "source": [
        "# write your code here"
      ],
      "metadata": {
        "id": "K531eJci9mup"
      },
      "execution_count": null,
      "outputs": []
    },
    {
      "cell_type": "markdown",
      "source": [
        "## Suggestions for best practice\n",
        "\n",
        "For clarity in naming functions:\n",
        "\n",
        "1. **Use lowercase letters:** function names should be in lowercase. If the function name consists of multiple words, separate them using underscores (`_`).\n",
        "\n",
        "2. **Be descriptive and use clear names:** the function name should clearly describe the purpose of the function. This makes the code more readable and easier for others to understand.\n",
        "\n",
        "3. **Avoid single-letter names:** single-letter names can be confusing and are not descriptive. Choose names that are meaningful and explanatory."
      ],
      "metadata": {
        "id": "9ePZ2_jLRHKT"
      }
    },
    {
      "cell_type": "markdown",
      "source": [
        "## Function nesting\n",
        "\n",
        "You can also *nest* functions in Python. This heightens code organisation and utility. It is particularly useful if you don't want the nested or 'inner' functions to be seen by other functions. This is sometimes called *privacy* or *encapsulation*. Let's adapt our code from the last two examples to demonstrate a simple application of nested or inner functions.\n",
        "\n",
        "Here, we see some aspects of functional programming:\n",
        "1. **Modularity:** the breaking down of the program into smaller elements with specific tasks to do. Smaller functions are simpler to understand and check for errors.\n",
        "2. **debugging and testing:** it is easy to test and debug each part of a simple function if the inputs and outputs are specified.\n",
        "3. **composability:** functional programming allows the reuse of code. In the example below, I could reuse code for Girls and Boys separately.\n"
      ],
      "metadata": {
        "id": "4iOTU1PjQ9bQ"
      }
    },
    {
      "cell_type": "code",
      "source": [
        "\n",
        "def weight_advice (age, height_metres, weight_kg, sex):\n",
        "  \"\"\"Function to output weight advice for adults and children\n",
        "  based on weight charts (Adults) and a regression equation (Children).\n",
        "  The routine uses nested (inner) functions.\"\"\"\n",
        "\n",
        "  def IBW_adult (height, weight):\n",
        "    return 22.0*height**2\n",
        "\n",
        "  def IBW_child (height, weight, male_or_female):\n",
        "    return ( 39.0 if male_or_female=='Male' else 42.0 ) + 2.27*(height*12/0.3048-60.)\n",
        "\n",
        "  def produce_advice_string (weight, IBW):\n",
        "    # If you are >110% of your Ideal Body Weight\n",
        "    if weight-IBW > 0.1*weight:\n",
        "      advice_string = f'You are obese. To get to an ideal weight of {IBW:.2f}kg, '\\\n",
        "                      f'you need to lose {weight-IBW:.2f}kg'\n",
        "\n",
        "    #If you are with 90 and 110% of your Ideal Body Weight\n",
        "    elif abs(weight-IBW) < 0.1*weight:\n",
        "      advice_string = f'The patient is a healthy weight of {weight:.2f}kg'\n",
        "\n",
        "    # If you are <90% of your Ideal Body Weight\n",
        "    else:\n",
        "      advice_string = f'The patient is underweight. To get to an ideal weight of {IBW:.2f}kg, '\\\n",
        "                      f'the patient needs to gain {IBW-weight:.2f}kg'\n",
        "\n",
        "    return advice_string\n",
        "\n",
        "\n",
        "  if age > 18.0:\n",
        "    IBW = IBW_adult (height_metres, weight_kg)\n",
        "  else:\n",
        "    IBW = IBW_child (height_metres, weight_kg, sex)\n",
        "  advice = produce_advice_string (weight_kg, IBW)\n",
        "\n",
        "  return advice"
      ],
      "metadata": {
        "id": "9E0itXTeu6iP"
      },
      "execution_count": null,
      "outputs": []
    },
    {
      "cell_type": "markdown",
      "source": [
        "We can now use our improved function just as we did before:"
      ],
      "metadata": {
        "id": "JQOX_f5ADaD_"
      }
    },
    {
      "cell_type": "code",
      "source": [
        "print (weight_advice (32.0, 1.75, 67.0, 'Male'))"
      ],
      "metadata": {
        "colab": {
          "base_uri": "https://localhost:8080/"
        },
        "id": "d7OOIRlNDX49",
        "outputId": "07a0e4e9-3060-4d5f-c2a8-63435185167b"
      },
      "execution_count": null,
      "outputs": [
        {
          "output_type": "stream",
          "name": "stdout",
          "text": [
            "The patient is a healthy weight of 67.00kg\n"
          ]
        }
      ]
    },
    {
      "cell_type": "markdown",
      "source": [
        "## Variable scope in Python\n",
        "\n",
        "Functions are also useful in that they limit the [scope of variables](https://www.geeksforgeeks.org/python/python-scope-of-variables/), which means that variables within a function cannot be seen by the calling program (and vice versa). This is an important concept in programming. We can give variables different levels of visibility according to their roles. For example, if variables are physical constants that are used repeatedly within the module or notebook, then it makes some sense to declare them as *global variables* (accessible by any function in the module). Or, they could be variables that you wish to update by different functions. This means that they can be used by all functions within the module or notebook. If, however, variables are specific to the operation to a function (or a small number of functions) then it is usally more sensible to make them *local variables* that remain private to that function."
      ],
      "metadata": {
        "id": "ucgX5skGrFwj"
      }
    },
    {
      "cell_type": "markdown",
      "source": [
        "In the example below, we have two functions to convert non-SI units of length to the standard SI unit of metres:\n",
        "one to convert feet and inches to metres and one to convert inches to metres. If we define `conv_factor_inches_to_metres` as a global variable, it will be visible to both functions, and any other part of the program. To declare a global variable, we just need to define it outside any function definition:\n"
      ],
      "metadata": {
        "id": "K8XRCjAShhIk"
      }
    },
    {
      "cell_type": "code",
      "source": [
        "conv_factor_inches_to_metres = 2.54/100.\n",
        "\n",
        "def convert_feet_and_inches_to_metres (feet, inches):\n",
        "  return (feet*12+inches)*conv_factor_inches_to_metres\n",
        "\n",
        "def convert_inches_to_metres (inches):\n",
        "  return inches*conv_factor_inches_to_metres\n",
        "\n",
        "print (f'conversion factor: {conv_factor_inches_to_metres}')"
      ],
      "metadata": {
        "id": "4EOZjjudL_j-",
        "colab": {
          "base_uri": "https://localhost:8080/"
        },
        "outputId": "9b1ee636-df2f-4d09-c9ce-af6184024728"
      },
      "execution_count": null,
      "outputs": [
        {
          "output_type": "stream",
          "name": "stdout",
          "text": [
            "conversion factor: 0.0254\n"
          ]
        }
      ]
    },
    {
      "cell_type": "markdown",
      "source": [
        "We could achieve the same using local variables to store the conversion factors. But we now need to define the variable in both functions. The advantage is that the conversion factor is now local to the functions, and we can more confident that it will not be modified inadvertently by any other part of the code:"
      ],
      "metadata": {
        "id": "Ff9BwyCyh164"
      }
    },
    {
      "cell_type": "code",
      "source": [
        "def convert_feet_and_inches_to_metres_a (feet, inches):\n",
        "  conv_fact = 2.54/100\n",
        "  return (feet*12+inches)*conv_fact\n",
        "\n",
        "def convert_inches_to_metres_a (inches):\n",
        "  conv_fact = 2.54/100\n",
        "  return inches*conv_fact"
      ],
      "metadata": {
        "id": "HLAlbPPdhqRE"
      },
      "execution_count": null,
      "outputs": []
    },
    {
      "cell_type": "markdown",
      "source": [
        "Now, `conv_fact` is not visible to any code outside the function, and the following `print()` statement produces an error:"
      ],
      "metadata": {
        "id": "yaZ0PBRii_Dp"
      }
    },
    {
      "cell_type": "code",
      "source": [
        "print ('conversion factor', conv_fact)"
      ],
      "metadata": {
        "colab": {
          "base_uri": "https://localhost:8080/",
          "height": 141
        },
        "id": "WaLgaGGni-Gr",
        "outputId": "b12f28f9-4e8b-472e-edcd-c6a1f19ed723"
      },
      "execution_count": null,
      "outputs": [
        {
          "output_type": "error",
          "ename": "NameError",
          "evalue": "name 'conv_fact' is not defined",
          "traceback": [
            "\u001b[0;31m---------------------------------------------------------------------------\u001b[0m",
            "\u001b[0;31mNameError\u001b[0m                                 Traceback (most recent call last)",
            "\u001b[0;32m/tmp/ipython-input-1390208004.py\u001b[0m in \u001b[0;36m<cell line: 0>\u001b[0;34m()\u001b[0m\n\u001b[0;32m----> 1\u001b[0;31m \u001b[0mprint\u001b[0m \u001b[0;34m(\u001b[0m\u001b[0;34m'conversion factor'\u001b[0m\u001b[0;34m,\u001b[0m \u001b[0mconv_fact\u001b[0m\u001b[0;34m)\u001b[0m\u001b[0;34m\u001b[0m\u001b[0;34m\u001b[0m\u001b[0m\n\u001b[0m",
            "\u001b[0;31mNameError\u001b[0m: name 'conv_fact' is not defined"
          ]
        }
      ]
    },
    {
      "cell_type": "markdown",
      "source": [
        "## Default argument values\n",
        "\n",
        "Python also allows you to provide default values for any of your arguments when defining your function. These will be used by default unless you override them when invoking the function.\n",
        "\n",
        "For example, the function below can be used to extend a list of numbers."
      ],
      "metadata": {
        "id": "u8mJYKuCUqWV"
      }
    },
    {
      "cell_type": "code",
      "source": [
        "def extend (x, value=0, repeat=1):\n",
        "  x += [ value ] * repeat\n",
        "  return x"
      ],
      "metadata": {
        "id": "ippCRHxBWfni"
      },
      "execution_count": null,
      "outputs": []
    },
    {
      "cell_type": "markdown",
      "source": [
        "By default, we add a single value `0`:\n"
      ],
      "metadata": {
        "id": "u6l_bUlJXuwf"
      }
    },
    {
      "cell_type": "code",
      "source": [
        "print (extend([1,2,3]))"
      ],
      "metadata": {
        "colab": {
          "base_uri": "https://localhost:8080/"
        },
        "id": "o8NeTi3zXsj-",
        "outputId": "81dc8578-a2fd-4162-e91b-bd788ff3e8fb"
      },
      "execution_count": null,
      "outputs": [
        {
          "output_type": "stream",
          "name": "stdout",
          "text": [
            "[1, 2, 3, 0]\n"
          ]
        }
      ]
    },
    {
      "cell_type": "markdown",
      "source": [
        "...  but if we specify the values for the remaining arguments, this can be used to add an arbitrary number of some arbitrary value:"
      ],
      "metadata": {
        "id": "IpiEyESAXzja"
      }
    },
    {
      "cell_type": "code",
      "source": [
        "print (extend([1,2,3], 4, 5))"
      ],
      "metadata": {
        "colab": {
          "base_uri": "https://localhost:8080/"
        },
        "id": "MbSfSKZ3Xp-Q",
        "outputId": "920fbdfb-58ea-47fb-d8fb-35d4ae36a035"
      },
      "execution_count": null,
      "outputs": [
        {
          "output_type": "stream",
          "name": "stdout",
          "text": [
            "[1, 2, 3, 4, 4, 4, 4, 4]\n"
          ]
        }
      ]
    },
    {
      "cell_type": "markdown",
      "source": [
        "This is where the ability of naming arguments when invoking the function becomes especially useful: we don't need to specify *all* the arguments, only those we wish to override. In the example below, we can leave the `value` at its default value, and only specify the number of repeats:"
      ],
      "metadata": {
        "id": "uNkMBwKqX-3G"
      }
    },
    {
      "cell_type": "code",
      "source": [
        "print (extend([1,2,3], repeat=5))"
      ],
      "metadata": {
        "colab": {
          "base_uri": "https://localhost:8080/"
        },
        "id": "EohLZmnXW8b5",
        "outputId": "c2ce01d0-d5a0-42dc-e908-3132fbd18014"
      },
      "execution_count": null,
      "outputs": [
        {
          "output_type": "stream",
          "name": "stdout",
          "text": [
            "[1, 2, 3, 0, 0, 0, 0, 0]\n"
          ]
        }
      ]
    },
    {
      "cell_type": "markdown",
      "source": [
        "## Built-in functions for lists\n",
        "\n",
        "You can imagine how useful functions are in handling and processing data. Let's look at some of the simpler built-in functions that can be applied to lists. Later in the course we will look at using some of these built-in functions to generate quite complex and efficient computational procedures."
      ],
      "metadata": {
        "id": "UOnLRZGD0LZW"
      }
    },
    {
      "cell_type": "code",
      "source": [],
      "metadata": {
        "id": "AgWuRe4mWzsf"
      },
      "execution_count": null,
      "outputs": []
    },
    {
      "cell_type": "markdown",
      "source": [
        "### `map()`\n",
        "\n",
        "`map()` is a useful builtin function that maps another function to each element of a list or other iterable and returns an iterable of type `map`.\n",
        "\n",
        "Imagine we wanted to apply a linear transformation to each element in a list (this is the sort of global function you might want to apply to each element in an image, or in this case convert a list of heights from inches to metres). We can do it long hand as in the example below:\n"
      ],
      "metadata": {
        "id": "6M0mHfHh0LZW"
      }
    },
    {
      "cell_type": "code",
      "source": [
        "def convert_i2m (x):\n",
        "  \"\"\"function to convert inches to metres\"\"\"\n",
        "  return 2.54*x/100\n",
        "\n",
        "# list of patients' heights:\n",
        "height_data_inches = [61,67,70,57,71,72,70,66]"
      ],
      "metadata": {
        "id": "lJEgMFM20LZW"
      },
      "execution_count": null,
      "outputs": []
    },
    {
      "cell_type": "markdown",
      "source": [
        "We could produce the converted values using a `for` loop:"
      ],
      "metadata": {
        "id": "Uvdq8TNuoNrf"
      }
    },
    {
      "cell_type": "code",
      "source": [
        "height_data_metres = [] #create empty list\n",
        "\n",
        "for x in height_data_inches:\n",
        "  height_data_metres.append (convert_i2m(x))\n",
        "\n",
        "print (height_data_metres)"
      ],
      "metadata": {
        "colab": {
          "base_uri": "https://localhost:8080/"
        },
        "id": "5RlonkFpld-b",
        "outputId": "5b454cfb-b797-4fa3-ca17-8b32ac6c20ae"
      },
      "execution_count": null,
      "outputs": [
        {
          "output_type": "stream",
          "name": "stdout",
          "text": [
            "[1.5493999999999999, 1.7018, 1.778, 1.4478, 1.8034000000000001, 1.8288, 1.778, 1.6764000000000001]\n"
          ]
        }
      ]
    },
    {
      "cell_type": "markdown",
      "source": [
        "We could also do this using a list comprehension (as we saw in the last session):"
      ],
      "metadata": {
        "id": "FlXJ8w3uoR-F"
      }
    },
    {
      "cell_type": "code",
      "source": [
        "height_data_metres = [ convert_i2m(x) for x in height_data_inches ]\n",
        "print (height_data_metres)"
      ],
      "metadata": {
        "colab": {
          "base_uri": "https://localhost:8080/"
        },
        "id": "yByaZyOSoXIA",
        "outputId": "d9a82226-fd3b-43f5-d1ca-81e2080658da"
      },
      "execution_count": null,
      "outputs": [
        {
          "output_type": "stream",
          "name": "stdout",
          "text": [
            "[1.5493999999999999, 1.7018, 1.778, 1.4478, 1.8034000000000001, 1.8288, 1.778, 1.6764000000000001]\n"
          ]
        }
      ]
    },
    {
      "cell_type": "markdown",
      "source": [
        "Or we can use the `map()` function: `map()` takes each element of the list `height_data_inches` and passes it to the function `convert_i2m()` to produce an iterable of the type `map`, which we can then convert into a list:\n",
        "\n"
      ],
      "metadata": {
        "id": "PbsUEV3D0LZX"
      }
    },
    {
      "cell_type": "code",
      "source": [
        "height_data_metres_map = map (convert_i2m, height_data_inches)\n",
        "print (height_data_metres_map)\n",
        "\n",
        "print (list(height_data_metres_map))"
      ],
      "metadata": {
        "colab": {
          "base_uri": "https://localhost:8080/"
        },
        "outputId": "03cd96d2-b9d6-49a5-85a2-d85ff36dc27e",
        "id": "4nBktI750LZX"
      },
      "execution_count": null,
      "outputs": [
        {
          "output_type": "stream",
          "name": "stdout",
          "text": [
            "<map object at 0x7be9f0346470>\n",
            "[1.5493999999999999, 1.7018, 1.778, 1.4478, 1.8034000000000001, 1.8288, 1.778, 1.6764000000000001]\n"
          ]
        }
      ]
    },
    {
      "cell_type": "markdown",
      "source": [
        "Let's imagine that the function receives  elements from two separate lists (for example, heights and weights), and computes BMI. How do we cope?\n"
      ],
      "metadata": {
        "id": "zq3upInj0LZX"
      }
    },
    {
      "cell_type": "code",
      "source": [
        "# Function to calculate BMI\n",
        "def BMI_calc (height, weight):\n",
        "  return weight/(height**2)\n",
        "\n",
        "weight_data_kg= [60,80.,80.,60, 65., 83., 79., 48.]\n",
        "\n",
        "# Here, BMI_calc accepts equivalently-indexed values from the two lists\n",
        "# and does the computation of BMI:\n",
        "BMI_data = list (map (BMI_calc, height_data_metres, weight_data_kg))\n",
        "\n",
        "print (BMI_data)"
      ],
      "metadata": {
        "id": "dzXy7iib0LZX",
        "colab": {
          "base_uri": "https://localhost:8080/"
        },
        "outputId": "40053370-aecd-4071-925c-c5b77cb80795"
      },
      "execution_count": null,
      "outputs": [
        {
          "output_type": "stream",
          "name": "stdout",
          "text": [
            "[24.99333136263693, 27.623133882935175, 25.306173061325712, 28.624249307593722, 19.986153838604043, 24.816793460747416, 24.98984589805914, 17.07992396701047]\n"
          ]
        }
      ]
    },
    {
      "cell_type": "markdown",
      "source": [
        "### `partial()`\n",
        "\n",
        "Now imagine that we have additional fixed arguments to put into a function. Let's imagine we have a list of heights and weights from which to compute BMI, and a list of thresholds with matching labels to categorise these BMI (assuming adults only). We could hard-code the thresholds and labels directly into a function:"
      ],
      "metadata": {
        "id": "2C6to1Wg0LZX"
      }
    },
    {
      "cell_type": "code",
      "source": [
        "def categorise_BMI (BMI):\n",
        "  if (BMI > 30.0):\n",
        "    return 'obese'\n",
        "  elif (BMI > 25.0):\n",
        "    return 'overweight'\n",
        "  elif (BMI > 18.5):\n",
        "    return 'healthy'\n",
        "  else:\n",
        "    return 'underweight'"
      ],
      "metadata": {
        "id": "hjnlBYC-zDvX"
      },
      "execution_count": null,
      "outputs": []
    },
    {
      "cell_type": "markdown",
      "source": [
        "and then invoke `map()` on the cmputed BMIs:"
      ],
      "metadata": {
        "id": "2J-Iamglzgz2"
      }
    },
    {
      "cell_type": "code",
      "source": [
        "print (list (map (categorise_BMI, BMI_data)))"
      ],
      "metadata": {
        "colab": {
          "base_uri": "https://localhost:8080/"
        },
        "id": "9vIENVEXzgK3",
        "outputId": "0e5bf36a-7a59-4e4c-b088-151d18937b3f"
      },
      "execution_count": null,
      "outputs": [
        {
          "output_type": "stream",
          "name": "stdout",
          "text": [
            "['healthy', 'overweight', 'overweight', 'overweight', 'healthy', 'healthy', 'healthy', 'underweight']\n"
          ]
        }
      ]
    },
    {
      "cell_type": "markdown",
      "source": [
        "But we could write a more generic function, taking the thresholds and corresponding labels as arguments, which would allow us to reuse it even with different classification schemes:"
      ],
      "metadata": {
        "id": "C35jWYR20BaA"
      }
    },
    {
      "cell_type": "code",
      "source": [
        "def categorise_BMI (BMI, thresholds, labels):\n",
        "  \"\"\"Assign the label from the list in `labels` based on whether the BMI\n",
        "  is below the corresponding threshold in `threshold`. If above all thresholds,\n",
        "  the last label will be returned. There should therefore be one more label\n",
        "  than thresholds\"\"\"\n",
        "  assert (len(thresholds) == len(labels)-1)\n",
        "  for i in range (len(thresholds)):\n",
        "    if (BMI < thresholds[i]):\n",
        "      return labels[i]\n",
        "  return labels[-1]"
      ],
      "metadata": {
        "id": "jQmI331u0TqC"
      },
      "execution_count": null,
      "outputs": []
    },
    {
      "cell_type": "markdown",
      "source": [
        "We can now provide the standard classification scheme, and use it to label our BMIs. The simplest way to do this is via a list comprehension:"
      ],
      "metadata": {
        "id": "akJykabn1KWx"
      }
    },
    {
      "cell_type": "code",
      "source": [
        "thresholds = [18.5, 25.0, 30.0]\n",
        "labels = ['underweight', 'healthy', 'overweight', 'obese']\n",
        "print ([ categorise_BMI(x, thresholds, labels) for x in BMI_data ])"
      ],
      "metadata": {
        "colab": {
          "base_uri": "https://localhost:8080/"
        },
        "id": "K-RpGD721Ueu",
        "outputId": "85737164-289f-46a2-9822-384a4a25a753"
      },
      "execution_count": null,
      "outputs": [
        {
          "output_type": "stream",
          "name": "stdout",
          "text": [
            "['healthy', 'overweight', 'overweight', 'overweight', 'healthy', 'healthy', 'healthy', 'underweight']\n"
          ]
        }
      ]
    },
    {
      "cell_type": "markdown",
      "source": [
        "We could also use the `map()` function, but the problem is that the function we need to apply expects *three* arguments, not just one.\n",
        "\n",
        "To get around this, we can use the `partial()` function, which returns another function where the last few parameters have been hard-coded:"
      ],
      "metadata": {
        "id": "0b7gGLre1nNw"
      }
    },
    {
      "cell_type": "code",
      "source": [
        "# we import the partial function from a library called functools (more about importing functions from libraries shortly)\n",
        "from functools import partial\n",
        "\n",
        "print (list (map (partial (categorise_BMI, thresholds=thresholds, labels=labels), BMI_data)))\n"
      ],
      "metadata": {
        "colab": {
          "base_uri": "https://localhost:8080/"
        },
        "outputId": "2fe89a50-5e72-4a2c-bc9b-057f2680c3f8",
        "id": "-2wzWH_f0LZX"
      },
      "execution_count": null,
      "outputs": [
        {
          "output_type": "stream",
          "name": "stdout",
          "text": [
            "['healthy', 'overweight', 'overweight', 'overweight', 'healthy', 'healthy', 'healthy', 'underweight']\n"
          ]
        }
      ]
    },
    {
      "cell_type": "markdown",
      "source": [
        "### `filter()`\n",
        "\n",
        "`filter()` is a built-in function related to `map()` that produces a new iterable according to whether the ouput of a function applied to the elements of the input iterable is true.\n",
        "\n",
        "In the example below, we process our list of BMI data in `BMI_data` to include only those elements with BMI between 20 and 25:"
      ],
      "metadata": {
        "id": "KkAOBXYa0LZX"
      }
    },
    {
      "cell_type": "code",
      "source": [
        "def BMIFilter (x):\n",
        "  return x > 20 and x < 25\n",
        "\n",
        "print (list (filter (BMIFilter, BMI_data)))"
      ],
      "metadata": {
        "id": "_0-NvnHN0LZX",
        "colab": {
          "base_uri": "https://localhost:8080/"
        },
        "outputId": "79a8fd53-c157-4ee7-d7a5-0ba3f7e6f08d"
      },
      "execution_count": null,
      "outputs": [
        {
          "output_type": "stream",
          "name": "stdout",
          "text": [
            "[24.99333136263693, 24.816793460747416, 24.98984589805914]\n"
          ]
        }
      ]
    },
    {
      "cell_type": "markdown",
      "source": [
        "Note that this can also be achieved using a list comprehension (see previous session):"
      ],
      "metadata": {
        "id": "hojY2zUS0LZX"
      }
    },
    {
      "cell_type": "code",
      "source": [
        "print ([ x for x in BMI_data if BMIFilter(x)])"
      ],
      "metadata": {
        "id": "_hKLW1fk0LZY",
        "colab": {
          "base_uri": "https://localhost:8080/"
        },
        "outputId": "2ee8119d-6e22-4876-f223-d145d2e1cb55"
      },
      "execution_count": null,
      "outputs": [
        {
          "output_type": "stream",
          "name": "stdout",
          "text": [
            "[24.99333136263693, 24.816793460747416, 24.98984589805914]\n"
          ]
        }
      ]
    },
    {
      "cell_type": "markdown",
      "source": [
        "Or without needing an explicit filter function:"
      ],
      "metadata": {
        "id": "KZyfxYVvwmmo"
      }
    },
    {
      "cell_type": "code",
      "source": [
        "print ([ x for x in BMI_data if x > 20 and x < 25 ])"
      ],
      "metadata": {
        "colab": {
          "base_uri": "https://localhost:8080/"
        },
        "id": "kJHWQhgWwpOB",
        "outputId": "c2a03a8d-da0b-4ae3-e607-c989c98a6620"
      },
      "execution_count": null,
      "outputs": [
        {
          "output_type": "stream",
          "name": "stdout",
          "text": [
            "[24.99333136263693, 24.816793460747416, 24.98984589805914]\n"
          ]
        }
      ]
    },
    {
      "cell_type": "markdown",
      "source": [
        "### Exercise 7\n",
        "\n",
        "Write a function that returns `True` for BMIs over a certain value. Use your function and the built-in functions `partial()` and `filter()` to generate a list of BMIs over 24 from the list `BMI_data`."
      ],
      "metadata": {
        "id": "aLPBAUcZ0LZY"
      }
    },
    {
      "cell_type": "code",
      "source": [
        "# write your code here"
      ],
      "metadata": {
        "id": "nyuTBTMx0LZY"
      },
      "execution_count": null,
      "outputs": []
    },
    {
      "cell_type": "markdown",
      "source": [
        "# Lambda functions"
      ],
      "metadata": {
        "id": "PPkHxH1fPnRl"
      }
    },
    {
      "cell_type": "markdown",
      "source": [
        "As noted above, the actions performed by both `map()` and `filter()` can often be done more simply (and some would argue, more expressively) using list comprehensions. There are however cases where these functions provide a better fit to the problem. Where these functions really come into their own however, is where they are coupled with *lambda functions*."
      ],
      "metadata": {
        "id": "qD3qtppfw6QS"
      }
    },
    {
      "cell_type": "markdown",
      "source": [
        "## Introducing lambda functions\n",
        "\n",
        "Lambda functions are short cuts and useful in many situations. It allows you to define a function at the point of use, keeping it within the flow of your program.\n",
        "\n",
        "If you have not come across lambda functions before, it will seem like we are making things unnecessarily complicated, but hang in there... you will see the power of them shortly!\n",
        "\n",
        "\n"
      ],
      "metadata": {
        "id": "5h5sbmBHJEC4"
      }
    },
    {
      "cell_type": "markdown",
      "source": [
        "![Slide5.JPG](data:image/jpeg;base64,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)"
      ],
      "metadata": {
        "id": "1frcT1n9lDXY"
      }
    },
    {
      "cell_type": "markdown",
      "source": [
        "So lets consider a standard function called `mul2()` which multiplies its argument by 2 and returns the result:"
      ],
      "metadata": {
        "id": "n8NRm9Z7QzYk"
      }
    },
    {
      "cell_type": "code",
      "source": [
        "def mul2(x):\n",
        "   return x * 2\n",
        "\n",
        "a = mul2(13)"
      ],
      "metadata": {
        "id": "fv3j7Clh6koG"
      },
      "execution_count": null,
      "outputs": []
    },
    {
      "cell_type": "markdown",
      "source": [
        "A lambda function allows you to condense it all into one line.\n",
        "The code below is equivalent to the above snippet.\n",
        "\n",
        "The function arguments are listed between the word `lambda` and the colon. The body of the function comes after the colon."
      ],
      "metadata": {
        "id": "woOZruFHJt63"
      }
    },
    {
      "cell_type": "code",
      "execution_count": null,
      "metadata": {
        "id": "Zc1_qW5psPVQ",
        "colab": {
          "base_uri": "https://localhost:8080/"
        },
        "outputId": "520c2930-4214-4cee-a310-4168eb5f1cb2"
      },
      "outputs": [
        {
          "output_type": "stream",
          "name": "stdout",
          "text": [
            "12\n"
          ]
        }
      ],
      "source": [
        "mul2 = lambda x: x * 2\n",
        "\n",
        "a = mul2(6)\n",
        "print(a)\n"
      ]
    },
    {
      "cell_type": "markdown",
      "source": [
        "### Exercise 8\n",
        "\n",
        "Create a standard function to calculate `2*a + b`. Can you then create a lambda equivalent?"
      ],
      "metadata": {
        "id": "7xvbHG57902V"
      }
    },
    {
      "cell_type": "code",
      "source": [
        "# write your code here"
      ],
      "metadata": {
        "id": "qlI1aqir-zrL"
      },
      "execution_count": null,
      "outputs": []
    },
    {
      "cell_type": "markdown",
      "source": [
        "### Exercise 9\n",
        "\n",
        "Given a list of the length of all the sides of a shape, calculate the perimeter of the shape. Note: the shape can have any number of sides.\n",
        "\n",
        "Can you do this both with a standard function and a lambda function?"
      ],
      "metadata": {
        "id": "LnYmNF42ADjj"
      }
    },
    {
      "cell_type": "code",
      "source": [
        "sides=[1,2,34,7]"
      ],
      "metadata": {
        "id": "XxFyqCrD_K9Q"
      },
      "execution_count": null,
      "outputs": []
    },
    {
      "cell_type": "code",
      "source": [
        "# write your code here"
      ],
      "metadata": {
        "id": "5PLzB7Nw7KW8"
      },
      "execution_count": null,
      "outputs": []
    },
    {
      "cell_type": "markdown",
      "source": [
        "## The advantage of lambda functions\n",
        "\n",
        "If we are dealing with single numbers there's not so much of an advantage, but if we are dealing with arrays or lists, then lambda functions come into their own.\n",
        "\n",
        "Supposing we had a list of numbers (an iterable) and we wanted to get rid of all the negative numbers. You could use a standard function..."
      ],
      "metadata": {
        "id": "Sv_jiFXX7ePk"
      }
    },
    {
      "cell_type": "code",
      "source": [
        "data = [3.2, 14, 39, -4, 28, 2, 37]\n",
        "\n",
        "j=[]\n",
        "for i in data:\n",
        "  if i>=0:\n",
        "    j.append(i)\n",
        "\n",
        "print(j)"
      ],
      "metadata": {
        "id": "4HvclqtRzoTN",
        "colab": {
          "base_uri": "https://localhost:8080/"
        },
        "outputId": "8e071fb4-3226-431f-9a07-ee4e7042cd46"
      },
      "execution_count": null,
      "outputs": [
        {
          "output_type": "stream",
          "name": "stdout",
          "text": [
            "[3.2, 14, 39, 28, 2, 37]\n"
          ]
        }
      ]
    },
    {
      "cell_type": "markdown",
      "source": [
        "Or a list comprehension:"
      ],
      "metadata": {
        "id": "AOJR9C-H52EN"
      }
    },
    {
      "cell_type": "code",
      "source": [
        "print ([x for x in data if x>=0 ])"
      ],
      "metadata": {
        "colab": {
          "base_uri": "https://localhost:8080/"
        },
        "id": "-q62mL7u53lG",
        "outputId": "a28d6f53-3dd8-43c0-92a2-76c76f586bb8"
      },
      "execution_count": null,
      "outputs": [
        {
          "output_type": "stream",
          "name": "stdout",
          "text": [
            "[3.2, 14, 39, 28, 2, 37]\n"
          ]
        }
      ]
    },
    {
      "cell_type": "markdown",
      "source": [
        "An alternative is to use `filter()`, as we saw earlier.\n",
        "\n",
        "We can solve the problem above by defining a function to determine which elements are positive (this is called a _predicate_):"
      ],
      "metadata": {
        "id": "eKYDCFjFz9kU"
      }
    },
    {
      "cell_type": "code",
      "source": [
        "def ispos(x):\n",
        "  if x >= 0:\n",
        "    return True\n",
        "  else:\n",
        "    return False\n",
        "\n",
        "print (list (filter (ispos, data)))"
      ],
      "metadata": {
        "id": "8vm66K6Y7afn",
        "colab": {
          "base_uri": "https://localhost:8080/"
        },
        "outputId": "25762eeb-9bbb-4d7f-da1c-5a531c88cf9b"
      },
      "execution_count": null,
      "outputs": [
        {
          "output_type": "stream",
          "name": "stdout",
          "text": [
            "[3.2, 14, 39, 28, 2, 37]\n"
          ]
        }
      ]
    },
    {
      "cell_type": "markdown",
      "source": [
        "This does the job, but is needlessly complicated - especially compared to the list comprehension.\n",
        "\n",
        "This is where the lambda functions become appealing: we can make all this much simpler, by using a lambda function:"
      ],
      "metadata": {
        "id": "OtyPiv8TLTL1"
      }
    },
    {
      "cell_type": "code",
      "execution_count": null,
      "metadata": {
        "id": "3an5BQfTsPVS",
        "colab": {
          "base_uri": "https://localhost:8080/"
        },
        "outputId": "b152faa3-f644-4628-9a97-b9ec62ba5fb3"
      },
      "outputs": [
        {
          "output_type": "stream",
          "name": "stdout",
          "text": [
            "[3.2, 14, 39, 28, 2, 37]\n"
          ]
        }
      ],
      "source": [
        "print (list (filter (lambda x: x >= 0, data)))"
      ]
    },
    {
      "cell_type": "markdown",
      "source": [
        "### Exercise 10\n",
        "\n",
        "Supposing you wanted to find all the positive even numbers in the following series. Use a filter with a lambda function.\n"
      ],
      "metadata": {
        "id": "cV9sriX98NGT"
      }
    },
    {
      "cell_type": "code",
      "source": [
        "data = [ 4,2,7,9,1,-17,-30 ]"
      ],
      "metadata": {
        "id": "3hfcoaLMZDeB"
      },
      "execution_count": null,
      "outputs": []
    },
    {
      "cell_type": "markdown",
      "source": [
        "> 💡 *Tip:* use a logical `and` to combine your logical statements"
      ],
      "metadata": {
        "id": "A5OVzx_HZCzs"
      }
    },
    {
      "cell_type": "code",
      "source": [
        "# write your code here"
      ],
      "metadata": {
        "id": "5bc-00fOAnE7"
      },
      "execution_count": null,
      "outputs": []
    },
    {
      "cell_type": "markdown",
      "source": [
        "### Exercise 11\n",
        "\n",
        "Compute the squared differences between corresponding numbers in the following two lists of numbers:\n"
      ],
      "metadata": {
        "id": "MjdBwPZ8Vvvu"
      }
    },
    {
      "cell_type": "code",
      "source": [
        "x = [ 4, 3, 9, -2, 5, 7 ]\n",
        "y = [ 1, 6, -3, 4, 5, 8 ]"
      ],
      "metadata": {
        "id": "y9Jfnnf_Whq5"
      },
      "execution_count": null,
      "outputs": []
    },
    {
      "cell_type": "markdown",
      "source": [
        "> 💡 *Tip:* You can use the `map()` python built-in function to do this in conjunction with a lambda\n"
      ],
      "metadata": {
        "id": "FGXlQ0oyWwyt"
      }
    },
    {
      "cell_type": "code",
      "source": [
        "# write your code here"
      ],
      "metadata": {
        "id": "n7SBz0_qWy5i"
      },
      "execution_count": null,
      "outputs": []
    },
    {
      "cell_type": "markdown",
      "source": [
        "## Lambda + filter/map, or list comprehension?\n",
        "\n",
        "Some of you may have noticed that all the examples above using `filter()` or `map()` could also have been written using _list comprehensions_.\n",
        "\n",
        "Using the examples above:"
      ],
      "metadata": {
        "id": "T7oexX1zVNfy"
      }
    },
    {
      "cell_type": "markdown",
      "source": [
        "### Filter out negative values:"
      ],
      "metadata": {
        "id": "dGDJNANvYGVk"
      }
    },
    {
      "cell_type": "code",
      "source": [
        "intlist = [3, 14, 39, -4, 28, 2, 37]\n",
        "\n",
        "# using lambda function:\n",
        "print (list (filter (lambda x: x >= 0, intlist)))\n",
        "\n",
        "# using list comprehension:\n",
        "print ([ x for x in intlist if x>= 0 ])"
      ],
      "metadata": {
        "id": "aBKN9w7xYIgQ",
        "colab": {
          "base_uri": "https://localhost:8080/"
        },
        "outputId": "00dc60f6-3472-4520-ffbb-971d1bcdc741"
      },
      "execution_count": null,
      "outputs": [
        {
          "output_type": "stream",
          "name": "stdout",
          "text": [
            "[3, 14, 39, 28, 2, 37]\n",
            "[3, 14, 39, 28, 2, 37]\n"
          ]
        }
      ]
    },
    {
      "cell_type": "markdown",
      "source": [
        "### Find all the positive even numbers in a list:"
      ],
      "metadata": {
        "id": "6XZqJaBhYIyI"
      }
    },
    {
      "cell_type": "code",
      "source": [
        "mylist = [4,2,7,9,1,-17,-30]\n",
        "\n",
        "# using lambda function:\n",
        "print (list (filter (lambda x: x>0 and x%2==0, mylist)))\n",
        "\n",
        "# using list comprehension:\n",
        "print ([ x for x in mylist if x>0 and x%2==0 ])"
      ],
      "metadata": {
        "id": "SLRXmL_-Y5A6",
        "colab": {
          "base_uri": "https://localhost:8080/"
        },
        "outputId": "e4060299-ed2c-421e-f872-a5692e6635d9"
      },
      "execution_count": null,
      "outputs": [
        {
          "output_type": "stream",
          "name": "stdout",
          "text": [
            "[4, 2]\n",
            "[4, 2]\n"
          ]
        }
      ]
    },
    {
      "cell_type": "markdown",
      "source": [
        "### Compute the squared differences two lists:\n",
        "\n",
        "In this case, the `zip()` built-in function comes in handy."
      ],
      "metadata": {
        "id": "FGlVag7sZhJi"
      }
    },
    {
      "cell_type": "code",
      "source": [
        "x = [ 4, 3, 9, -2, 5, 7 ]\n",
        "y = [ 1, 6, -3, 4, 5, 8 ]\n",
        "\n",
        "# using lambda function:\n",
        "print (list (map (lambda a,b: (a-b)**2, x, y)))\n",
        "\n",
        "# using list comprehension:\n",
        "print ([ (a-b)**2 for (a,b) in zip(x,y) ])"
      ],
      "metadata": {
        "id": "3FfGjIQ1Zp4B",
        "colab": {
          "base_uri": "https://localhost:8080/"
        },
        "outputId": "ad4c2c92-824d-4aae-e4a7-cc8fbf287603"
      },
      "execution_count": null,
      "outputs": [
        {
          "output_type": "stream",
          "name": "stdout",
          "text": [
            "[9, 9, 144, 36, 0, 1]\n",
            "[9, 9, 144, 36, 0, 1]\n"
          ]
        }
      ]
    },
    {
      "cell_type": "markdown",
      "source": [
        "In practice, there is no particular reason to use one version over the other. In some situations, `map()` or `filter()` will make more sense, particularly if the function to be used is already available. In other contexts, the list comprehension will be clearer and more readable. There may be a slight (most likely negligible) performance advantage for list comprehensions, depending on the operation performed.\n",
        "\n",
        "In short, use whichever version feels most natural!\n",
        "\n",
        "There are however other situations where list comprehensions can't replace the use of lambda functions. For example, sorting:"
      ],
      "metadata": {
        "id": "132E2RaQaO4T"
      }
    },
    {
      "cell_type": "markdown",
      "metadata": {
        "id": "kwrn3HscsPVT"
      },
      "source": [
        "## Using lambdas for sorting\n",
        "\n",
        "The `sorted()` function returns a sorted list given an input iterable (such as a list or tuple). Consider the example below:\n"
      ]
    },
    {
      "cell_type": "code",
      "source": [
        "intlist = [6, 14, 39, -4, 28, 2, 37]\n",
        "fruit = ['bananna','apple','strawberry','orange']\n",
        "\n",
        "print (sorted (intlist))\n",
        "print (sorted (fruit))"
      ],
      "metadata": {
        "id": "C2gN3mzlBSmS",
        "colab": {
          "base_uri": "https://localhost:8080/"
        },
        "outputId": "660def6c-4cf9-41ec-d1b1-fd7a7cc77fb6"
      },
      "execution_count": null,
      "outputs": [
        {
          "output_type": "stream",
          "name": "stdout",
          "text": [
            "[-4, 2, 6, 14, 28, 37, 39]\n",
            "['apple', 'bananna', 'orange', 'strawberry']\n"
          ]
        }
      ]
    },
    {
      "cell_type": "markdown",
      "source": [
        "This will sort into numerical or alphabetical order. But suppose you wanted to sort according to different criteria?\n",
        "\n",
        "\n",
        "In this case, you can use a lambda function to help. In the example below, `sorted()` takes a _function_ argument called `key` to transform each value before sorting. As before, a lambda function is very convenient:"
      ],
      "metadata": {
        "id": "ySrIoLSSBRoO"
      }
    },
    {
      "cell_type": "code",
      "execution_count": null,
      "metadata": {
        "id": "W2K_q_xusPVT",
        "colab": {
          "base_uri": "https://localhost:8080/"
        },
        "outputId": "cc3fce00-7a38-4682-8f08-d5a7b8781911"
      },
      "outputs": [
        {
          "output_type": "stream",
          "name": "stdout",
          "text": [
            "[39, 37, 28, 14, 6, 2, -4]\n",
            "[6, 14, 2, -4, 28, 37, 39]\n"
          ]
        }
      ],
      "source": [
        "# reverse sort order:\n",
        "print (sorted (intlist, key=lambda i: -i))\n",
        "\n",
        "# order by distance from 10:\n",
        "print (sorted (intlist, key=lambda i: abs(10 - i)))"
      ]
    },
    {
      "cell_type": "markdown",
      "source": [
        "We can also sort by elements within lists of tuples... this will become more useful when we start using classes tomorrow.\n",
        "\n",
        "In the example below, each tuple lists the name, grade and age of the student. Using a lambda function, we can sort by any element of the tuple:\n"
      ],
      "metadata": {
        "id": "EpL_lLt_QWD6"
      }
    },
    {
      "cell_type": "code",
      "source": [
        "student_tuples = [\n",
        "    ('john', 'A', 15),\n",
        "    ('jane', 'B', 12),\n",
        "    ('dave', 'B', 10),\n",
        "]\n",
        "\n",
        "# sort by name:\n",
        "print (sorted (student_tuples, key=lambda student: student[0]) )\n",
        "\n",
        "# sort by grade:\n",
        "print (sorted (student_tuples, key=lambda student: student[1]) )\n",
        "\n",
        "# sort by age\n",
        "print (sorted (student_tuples, key=lambda student: student[2]) )\n",
        "\n",
        "# sort by which students are closest to being 13 years old\n",
        "print (sorted (student_tuples, key=lambda student: abs(13-student[2])) )"
      ],
      "metadata": {
        "id": "drWLR_VRRPqT",
        "colab": {
          "base_uri": "https://localhost:8080/"
        },
        "outputId": "861ad6a4-696d-44d5-a3ca-f9b1fb0bcf64"
      },
      "execution_count": null,
      "outputs": [
        {
          "output_type": "stream",
          "name": "stdout",
          "text": [
            "[('dave', 'B', 10), ('jane', 'B', 12), ('john', 'A', 15)]\n",
            "[('john', 'A', 15), ('jane', 'B', 12), ('dave', 'B', 10)]\n",
            "[('dave', 'B', 10), ('jane', 'B', 12), ('john', 'A', 15)]\n",
            "[('jane', 'B', 12), ('john', 'A', 15), ('dave', 'B', 10)]\n"
          ]
        }
      ]
    },
    {
      "cell_type": "markdown",
      "source": [
        "### Exercise 12\n",
        "\n",
        "Some children tried to guess how many sweets in a jar. The actual answer was 258. List the children in order of who was closest."
      ],
      "metadata": {
        "id": "nl--YmTnSDQA"
      }
    },
    {
      "cell_type": "code",
      "source": [
        "guesses = [ ('charlie',200),\n",
        "            ('dan',542),\n",
        "            ('michah',89),\n",
        "            ('alisia',145),\n",
        "            ('tomi',290),\n",
        "            ('abigail',300),\n",
        "            ('matt',401) ]"
      ],
      "metadata": {
        "id": "WeeoQ5sySSDk"
      },
      "execution_count": null,
      "outputs": []
    },
    {
      "cell_type": "code",
      "source": [
        "# write your code here"
      ],
      "metadata": {
        "id": "OIoYfp0nC6v8"
      },
      "execution_count": null,
      "outputs": []
    },
    {
      "cell_type": "markdown",
      "source": [
        "### Exercise 13\n",
        "\n",
        "The tuples below represent items in a supermarket. They elements are item name, cost, isle, number in stock.\n",
        "\n",
        "1.   Sort the list by item name\n",
        "2.   Sort the list by cost (cheapest first)\n",
        "3.   Remove all items where stock is less than 3\n"
      ],
      "metadata": {
        "id": "U3EnO6Z9KtPg"
      }
    },
    {
      "cell_type": "code",
      "source": [
        "shop_items=[\n",
        "    ('apple', 0.43, 14, 256),\n",
        "    ('cheese', 2.15, 7, 47),\n",
        "    ('yoghurt', 0.89, 8, 76),\n",
        "    ('pasta', 2.67, 2, 60),\n",
        "    ('cereal', 3.50, 9, 16),\n",
        "    ('bread', 2.65, 3, 3),\n",
        "    ('shampoo', 4.80, 13, 0)\n",
        "    ]"
      ],
      "metadata": {
        "id": "dAQ3G45GLSbD"
      },
      "execution_count": null,
      "outputs": []
    },
    {
      "cell_type": "code",
      "source": [
        "# write your code here"
      ],
      "metadata": {
        "id": "yL9eij_NDNY-"
      },
      "execution_count": null,
      "outputs": []
    },
    {
      "cell_type": "markdown",
      "source": [
        "# Classes\n",
        "\n",
        "Classes are a powerful tool to organise related code into *objects*, and are fundamental to [object-oriented programming](https://www.geeksforgeeks.org/dsa/introduction-of-object-oriented-programming/).  A class is a *blueprint* for what kind of data (attributes) an object of that type will contain, and what operations will be possible (methods).\n",
        "\n",
        "For example, we might define a class to represent ECG signals. It might contain the ECG trace, in the form of a vector of measurements (assumed to have been acquired sequentially in time), along with a variable storing the time interval between samples, a variable storing the time of acquisition, a string to hold the name of the patient, a string to hold the referring physician, etc. It might provide methods to report on the total length of the recording (in seconds), and more sophisticated methods to count the number of heart beats, or to compute the interval between heart beats, etc.\n",
        "\n",
        "We have already been using classes throughout this course, since all variables in Python are classes. We can inspect the attributes and methods of these standard classes using the `dir()` function:"
      ],
      "metadata": {
        "id": "o9zyFvDvNigR"
      }
    },
    {
      "cell_type": "code",
      "source": [
        "# define an empty list:\n",
        "a=[]\n",
        "\n",
        "# list the attributes and methods of that list:\n",
        "dir(a)"
      ],
      "metadata": {
        "colab": {
          "base_uri": "https://localhost:8080/"
        },
        "id": "F7R3MVNne_h9",
        "outputId": "4db4e461-4d84-4eab-9ac9-1c2b7ee0ba38"
      },
      "execution_count": null,
      "outputs": [
        {
          "output_type": "execute_result",
          "data": {
            "text/plain": [
              "['__add__',\n",
              " '__class__',\n",
              " '__class_getitem__',\n",
              " '__contains__',\n",
              " '__delattr__',\n",
              " '__delitem__',\n",
              " '__dir__',\n",
              " '__doc__',\n",
              " '__eq__',\n",
              " '__format__',\n",
              " '__ge__',\n",
              " '__getattribute__',\n",
              " '__getitem__',\n",
              " '__getstate__',\n",
              " '__gt__',\n",
              " '__hash__',\n",
              " '__iadd__',\n",
              " '__imul__',\n",
              " '__init__',\n",
              " '__init_subclass__',\n",
              " '__iter__',\n",
              " '__le__',\n",
              " '__len__',\n",
              " '__lt__',\n",
              " '__mul__',\n",
              " '__ne__',\n",
              " '__new__',\n",
              " '__reduce__',\n",
              " '__reduce_ex__',\n",
              " '__repr__',\n",
              " '__reversed__',\n",
              " '__rmul__',\n",
              " '__setattr__',\n",
              " '__setitem__',\n",
              " '__sizeof__',\n",
              " '__str__',\n",
              " '__subclasshook__',\n",
              " 'append',\n",
              " 'clear',\n",
              " 'copy',\n",
              " 'count',\n",
              " 'extend',\n",
              " 'index',\n",
              " 'insert',\n",
              " 'pop',\n",
              " 'remove',\n",
              " 'reverse',\n",
              " 'sort']"
            ]
          },
          "metadata": {},
          "execution_count": 118
        }
      ]
    },
    {
      "cell_type": "markdown",
      "source": [
        "We have already seen a number of these methods and how to use them in the previous session (e.g. `clear`, `copy`, `index`, etc). We can verify that these are indeed methods by using the `type()` function:"
      ],
      "metadata": {
        "id": "voAPZEoQin9u"
      }
    },
    {
      "cell_type": "code",
      "source": [
        "type (a.clear)"
      ],
      "metadata": {
        "colab": {
          "base_uri": "https://localhost:8080/"
        },
        "id": "6cOw_oRpi18c",
        "outputId": "bcd2d47a-5759-4b58-fce6-78334a58f664"
      },
      "execution_count": null,
      "outputs": [
        {
          "output_type": "execute_result",
          "data": {
            "text/plain": [
              "builtin_function_or_method"
            ]
          },
          "metadata": {},
          "execution_count": 119
        }
      ]
    },
    {
      "cell_type": "markdown",
      "source": [
        "You will note that many of these methods and attributes start and end with double underscores: this indicates that they are reserved for the internal implementation, and you should never access them directly.\n",
        "\n",
        "Since lists are a built-in type, we cannot access its attributes directly - we can only interact with it using the methods provided. In subsequent sessions, we will learn how to define our own classes, and we will then be able to see the attributes we defined in the listing.\n",
        "\n",
        "We already know how to use classes and their methods using the [dot notation](https://www.google.com/url?q=https%3A%2F%2Fwww.askpython.com%2Fpython%2Fbuilt-in-methods%2Fdot-notation), which is hopefully fairly intuitive. See earlier examples in this session and the previous one. For now, it is only necessary to appreciate what classes are and how to use the standard ones effectively."
      ],
      "metadata": {
        "id": "f-QqhzHXi_c5"
      }
    },
    {
      "cell_type": "markdown",
      "source": [
        "# Errors in Python\n",
        "\n",
        "There are several types of errors that can occur in Python. Each type indicates a different kind of problem in the code, and understanding these error types is crucial in creating effective and robust Python applications. The most common types of errors you'll encounter in Python are syntax errors, runtime errors, logical errors, name errors, type errors, index errors, and attribute errors.\n",
        "Python code stops running when it finds an error.\n"
      ],
      "metadata": {
        "id": "i8cObr85MUIX"
      }
    },
    {
      "cell_type": "markdown",
      "source": [
        "## Python exceptions\n",
        "\n",
        "Exception are a condition that interrupts the normal flow of the program.\n",
        "Even if the statement or expression is syntactically correct, a program can run except \"in this case\", but encountering \"this case\" is not necessarily fatal. Exceptions may include: `NameError`, `TypeError`, `ZeroDivisionError` ([see full list here](https://www.w3schools.com/python/python_ref_exceptions.asp)).\n"
      ],
      "metadata": {
        "id": "eIo8FCWMq8k_"
      }
    },
    {
      "cell_type": "markdown",
      "source": [
        "### Syntax error\n",
        "\n",
        "This occurs when code is written incorrectly. For example, using the wrong number of brackets, as illustrated below."
      ],
      "metadata": {
        "id": "91aEoZ5000m1"
      }
    },
    {
      "cell_type": "code",
      "source": [
        "a=3\n",
        "print((a)"
      ],
      "metadata": {
        "id": "IzJKd-Il092F",
        "colab": {
          "base_uri": "https://localhost:8080/",
          "height": 106
        },
        "outputId": "3564e649-43b5-4471-8ad5-daaf6f0323c8"
      },
      "execution_count": null,
      "outputs": [
        {
          "output_type": "error",
          "ename": "SyntaxError",
          "evalue": "incomplete input (ipython-input-2441279665.py, line 2)",
          "traceback": [
            "\u001b[0;36m  File \u001b[0;32m\"/tmp/ipython-input-2441279665.py\"\u001b[0;36m, line \u001b[0;32m2\u001b[0m\n\u001b[0;31m    print((a)\u001b[0m\n\u001b[0m             ^\u001b[0m\n\u001b[0;31mSyntaxError\u001b[0m\u001b[0;31m:\u001b[0m incomplete input\n"
          ]
        }
      ]
    },
    {
      "cell_type": "markdown",
      "source": [
        "The `^` shows where it went wrong"
      ],
      "metadata": {
        "id": "qjH5Ga4_NHyx"
      }
    },
    {
      "cell_type": "markdown",
      "source": [
        "### Exception errors\n",
        "\n",
        "These occur when the code is written with the correct syntax, but something else went wrong.\n",
        "\n",
        "Try running the code below. It crashes, because it can't divide by zero. It generates a `ZeroDivisionError`. You can see this in the red text at the bottom. Consequently, the programme crashes.\n",
        "\n",
        "This is a built-in exception. Python has lots of these. And python also has the option of defining your *own* exceptions."
      ],
      "metadata": {
        "id": "WSpehPLtrGvi"
      }
    },
    {
      "cell_type": "code",
      "source": [
        "print(0/0)"
      ],
      "metadata": {
        "id": "-uDs0wLXritv"
      },
      "execution_count": null,
      "outputs": []
    },
    {
      "cell_type": "markdown",
      "source": [
        "In the example below we try to print the word 'hello', but forgot the inverted commas. This causes Python to assume `hello` is a variable, but no such variable is defined:"
      ],
      "metadata": {
        "id": "RyVgQauaSFHn"
      }
    },
    {
      "cell_type": "code",
      "source": [
        "print (hello)"
      ],
      "metadata": {
        "id": "COSab0dvSIjr"
      },
      "execution_count": null,
      "outputs": []
    },
    {
      "cell_type": "markdown",
      "source": [
        "## Handling exceptions\n",
        "\n",
        "We use the `try` and `except` keywords to handle an error in Python."
      ],
      "metadata": {
        "id": "QP7fMjrnInCe"
      }
    },
    {
      "cell_type": "code",
      "source": [
        "try:\n",
        "  # the code you want to execute\n",
        "except:\n",
        "  # if the code in the try section raises an exception you will arrive here"
      ],
      "metadata": {
        "id": "c8tAiEZ5Iyh8"
      },
      "execution_count": null,
      "outputs": []
    },
    {
      "cell_type": "markdown",
      "source": [
        "The above code does not specify the exception raised. Most of the time, you want to have more information about the exception. To do this, you need to do to capture the exception object:"
      ],
      "metadata": {
        "id": "TWLJBHpuJGQT"
      }
    },
    {
      "cell_type": "code",
      "source": [
        "try:\n",
        "  # the code you want to execute\n",
        "  a = unknown\n",
        "except Exception as e:\n",
        "  # this time you can have more information about the exception with the \"e\" variable\n",
        "  # for example, we can print it:\n",
        "  print (e)"
      ],
      "metadata": {
        "id": "GYjWfaGnJxbe"
      },
      "execution_count": null,
      "outputs": []
    },
    {
      "cell_type": "markdown",
      "source": [
        "The `Exception` object above is a *class*, and like all classes, provides attributes and methods that you can use. The `Exception` object above is the most generic type of exception, and acts as a catch-all for any exception (the built-in ones or the custom one you can create).\n",
        "\n",
        "In general however, it is more useful to deal with specific exceptions, as illustrated below:"
      ],
      "metadata": {
        "id": "eaOUk9NTKdiA"
      }
    },
    {
      "cell_type": "code",
      "source": [
        "try:\n",
        "    with open('file.log') as file:\n",
        "        read_data = file.read()\n",
        "except FileNotFoundError as fnf_error:\n",
        "    print(\"File was not found, details of error: \", fnf_error)"
      ],
      "metadata": {
        "id": "_dd0X5CLMW_7"
      },
      "execution_count": null,
      "outputs": []
    },
    {
      "cell_type": "markdown",
      "source": [
        "In the above, note the use of [the `with` statement](https://www.geeksforgeeks.org/python/with-statement-in-python/) to handle the file operation: this is Python-specific syntax to make such operations more robust to unexpected errors. In particular, when handling files it is important to close any file we might have opened, since there is a limit to how many files a single program can open simultaneously. The `with` statement can be used to ensure the file is *always* closed once we come out of the matching block of code - irrespective of whether the code completed successfully or not."
      ],
      "metadata": {
        "id": "W2-WXA4pp0SJ"
      }
    },
    {
      "cell_type": "markdown",
      "source": [
        "You can add as many exception handlers as you may need to handle different types of errors, simply by listing them one after the other.\n",
        "\n",
        "Looking at the example above, we are handling the 'file not found' error, but we might also encounter other types of errors. In this case, we can add a further `except` clause as a catch-all:"
      ],
      "metadata": {
        "id": "UpwXvXM5Mraz"
      }
    },
    {
      "cell_type": "code",
      "source": [
        "try:\n",
        "    with open('file.log') as file:\n",
        "        read_data = file.read()\n",
        "except FileNotFoundError as fnf_error:\n",
        "  print(\"File was not found, details of error: \", fnf_error)\n",
        "except Exception as e:\n",
        "  print(\"Unexpected error: \", e)"
      ],
      "metadata": {
        "id": "034Gn0GRNCdb"
      },
      "execution_count": null,
      "outputs": []
    },
    {
      "cell_type": "markdown",
      "source": [
        "###  Exercice 14\n",
        "\n",
        "In the below code we are asking the user to enter a number. Modify the code to print an error message if the value entered is not a number and ask the user again.\n",
        "  - Use the `input()` method to ask the user to enter a value.\n",
        "  - Convert the value to an `int` using the `int(x)` built-in function.\n",
        "  - Use `try`/`except` to catch the `ValueError` built-in exception.\n",
        "  - Use an infinite loop (`while True`) to keep asking until the value entered can be correctly interpreted as an integer."
      ],
      "metadata": {
        "id": "GrnRIjgRNVgr"
      }
    },
    {
      "cell_type": "code",
      "source": [
        "# write your code here"
      ],
      "metadata": {
        "id": "TEt9RvXNLTgE"
      },
      "execution_count": null,
      "outputs": []
    },
    {
      "cell_type": "markdown",
      "source": [
        "### AssertionError\n",
        "\n",
        "These are handy to check things out in advance.\n",
        "\n",
        "`assert` is a keyword which tests to see if something is true. If it is, nothing happens, if it is not true then it throws an `AssertionError`. Again this is the last thing it will do, before ending the code."
      ],
      "metadata": {
        "id": "aEe5vNsdU-OL"
      }
    },
    {
      "cell_type": "code",
      "source": [
        "a=5\n",
        "assert a>0    # this does nothing because it is true\n",
        "              # if it isn't true it throws an AssertionError\n",
        "\n",
        "\n",
        "a=-5\n",
        "assert a>0, 'a should be greater than zero'  # if not true, the AssertionError message is given"
      ],
      "metadata": {
        "id": "Sfq6Fl-ZVCOX"
      },
      "execution_count": null,
      "outputs": []
    },
    {
      "cell_type": "markdown",
      "source": [
        "So far we keep ending the program as soon as the error is encountered.\n",
        "We may not want to do this. We may want to know there was an issue, but carry on anyway. The code below uses `try: except` to keep the code running, just skipping over the bits it can't do."
      ],
      "metadata": {
        "id": "rgli7zP2VFqt"
      }
    },
    {
      "cell_type": "code",
      "source": [
        "def my_divide(a,b):\n",
        "  try:\n",
        "    return(a/b)\n",
        "  except:\n",
        "    return('unable to divide by zero')\n",
        "\n",
        "for b in [3,2,0,4]:\n",
        "  print(my_divide(10,b))"
      ],
      "metadata": {
        "id": "tsbFop7LVFLJ"
      },
      "execution_count": null,
      "outputs": []
    },
    {
      "cell_type": "markdown",
      "source": [
        "There might be more than one possible problem with the input data and you might want to know which error you have run into. For example, you can't divide by zero, but nor can you divide by a string.\n",
        "\n",
        "You might want the code to carry on working through your list of inputs but to flag up what was wrong with any input.\n",
        "\n",
        "In the `my_divide()` function below, the code first checks that `b` is a number, and if not, raises a `TypeError`. If it is a number it checks it is not zero. If it is zero if raises an `AssertionError`. Either type of error takes you to the exception matching the error.\n",
        "\n",
        "If no error is found the code goes to the `else` statement."
      ],
      "metadata": {
        "id": "iHCUuzusVK9s"
      }
    },
    {
      "cell_type": "code",
      "source": [
        "def my_divide(a,b):\n",
        "  try:\n",
        "    if type(b) is not int and type(b) is not float:\n",
        "      raise TypeError('b is not a number')\n",
        "    assert b != 0\n",
        "  except AssertionError as error:\n",
        "    print(f'{a} divided by {b} is NOT doable, because {error}')\n",
        "  except TypeError as error:\n",
        "    print(f'{a} divided by {b} is NOT doable, because {error}')\n",
        "  except Exception: # this catches any exceptions that haven't been caught previously\n",
        "    print('unexpected error')\n",
        "  else:\n",
        "    print(f'{a} divided by {b} is doable. Answer is: {a/b}')\n",
        "\n",
        "\n",
        "for b in [3,2.2,0,4,'fish',4]:\n",
        "  my_divide(10,b)"
      ],
      "metadata": {
        "id": "4uW2pNCvVNgH"
      },
      "execution_count": null,
      "outputs": []
    },
    {
      "cell_type": "markdown",
      "source": [
        "### The `finally` keyword\n",
        "\n",
        "We can use the `finally` keyword to execute a piece of code after the `try`...`except` block. Whatever happens, regardless of whether the `try` block is either entirely and successfully executed, or the code raises an exception and goes to the `except` block, the code in the `finally` block will always be executed."
      ],
      "metadata": {
        "id": "rhP3_jbdPwvq"
      }
    },
    {
      "cell_type": "code",
      "source": [
        "try:\n",
        "  # your code\n",
        "except:\n",
        "  # if an exception raised\n",
        "finally:\n",
        "  # we finally execute the code here, whatever happens"
      ],
      "metadata": {
        "id": "wwORTtkkQheQ"
      },
      "execution_count": null,
      "outputs": []
    },
    {
      "cell_type": "markdown",
      "source": [
        "So now the question is why do we need the `finally` block. Have a look at the code below:"
      ],
      "metadata": {
        "id": "KuIliHllQvxT"
      }
    },
    {
      "cell_type": "code",
      "source": [
        "# create a database connection\n",
        "conn = create_database_connection()\n",
        "try:\n",
        "  # sql query to execute\n",
        "  query = \"my_sql_query\"\n",
        "  # result by giving the query to execute and the database connection\n",
        "  result = query_to_execute(query, conn)\n",
        "except:\n",
        "  # raise exception"
      ],
      "metadata": {
        "id": "pH1ISPLvQ39P"
      },
      "execution_count": null,
      "outputs": []
    },
    {
      "cell_type": "markdown",
      "source": [
        "How can we use the finally block in the above example ?"
      ],
      "metadata": {
        "id": "FUVKD1dsSRWc"
      }
    },
    {
      "cell_type": "markdown",
      "source": [
        "Whatever happens we want to close the database connection. So if we retrieve the result successfully or we raise an exception, we want to ensure that the database connection is correctly closed. Imagine you have an application with 1 million users, all executing this piece of code, we want to be sure that the database connection is correctly closed when no longer in use to prevent holding too many open connections in the app."
      ],
      "metadata": {
        "id": "uHg0mr8WSlI6"
      }
    },
    {
      "cell_type": "code",
      "source": [
        "# create a database connection\n",
        "conn = create_database_connection()\n",
        "try:\n",
        "  # sql query to execute\n",
        "  query = \"my_sql_query\"\n",
        "  # result by giving the query to execute and the database connection\n",
        "  result = query_to_execute(query, conn)\n",
        "except Exception as e:\n",
        "  # handle the exception as best you can (here, we just print it):\n",
        "  print (e)\n",
        "finally:\n",
        "  # close the DB:\n",
        "  conn.close()"
      ],
      "metadata": {
        "id": "1hH-bIOsTeAQ"
      },
      "execution_count": null,
      "outputs": []
    },
    {
      "cell_type": "markdown",
      "source": [
        "### The `else` keyword\n",
        "\n",
        "The `else` keyword is used to execute a block of code if no exception was thrown. For example:"
      ],
      "metadata": {
        "id": "-dRNMhNFaDwd"
      }
    },
    {
      "cell_type": "code",
      "source": [
        "try:\n",
        "  f = open(\"demofile.txt\")\n",
        "except:\n",
        "  print(\"Could not open the file\")\n",
        "else:\n",
        "  # file was opened, we can proceed:\n",
        "  r = f.read()\n",
        "finally:\n",
        "  f.close()"
      ],
      "metadata": {
        "id": "U7M_3ztEaOkT"
      },
      "execution_count": null,
      "outputs": []
    },
    {
      "cell_type": "markdown",
      "source": [
        "## Raising exceptions\n",
        "\n",
        "We saw how to handle exceptions in the previous section. Now we are going to see how to raise exceptions.\n",
        "\n",
        "We use the `raise` keyword followed by the `Exception` object to which you can specify a custom message. As soon as you raise an exception it ends the scope of the code you are in."
      ],
      "metadata": {
        "id": "l_unqGukTNt1"
      }
    },
    {
      "cell_type": "code",
      "source": [
        "def my_divide(a,b):\n",
        "  if b==0:\n",
        "    raise Exception('can not divide by zero')\n",
        "  else:\n",
        "    return(a/b)\n",
        "\n",
        "print (my_divide(4, 2))\n",
        "print (my_divide(4, 0))"
      ],
      "metadata": {
        "id": "FHuezjLT6b_-"
      },
      "execution_count": null,
      "outputs": []
    },
    {
      "cell_type": "markdown",
      "source": [
        "There are many different types of exceptions - see [the full list here](https://www.w3schools.com/python/python_ref_exceptions.asp). Throwing a standard `Exception` makes it difficult to handle the specific error you raised differently from other generic errors. To allow more fine-grained control, you can use one of the more specific exception subtypes:"
      ],
      "metadata": {
        "id": "nWwTP9gA_GNu"
      }
    },
    {
      "cell_type": "code",
      "source": [
        "def my_divide (a,b):\n",
        "  if b==0:\n",
        "    raise ValueError ('cannot divide by zero')\n",
        "  else:\n",
        "    return (a/b)\n",
        "\n",
        "try:\n",
        "  print (my_divide(4, 2))\n",
        "  print (my_divide(4, 0))\n",
        "except ValueError as e:\n",
        "  print (f\"Invalid argument to my_divide: {e}\")\n",
        "except Exception as e:\n",
        "  print (f\"unexpected error: {e}\")"
      ],
      "metadata": {
        "id": "fz84-f9W_IC_"
      },
      "execution_count": null,
      "outputs": []
    },
    {
      "cell_type": "markdown",
      "source": [
        "### Exercice 15\n",
        "\n",
        "We have the following cleaning app.\n",
        "- We have to clean the bathroom, kitchen and bedroom\n",
        "- For all areas we have common tools\n",
        "- for kitchen we have two additional tools for oven and fridge\n",
        "\n",
        "We want to raise an exception in the app (so exit the app) if we have none of the common tools.\n",
        "\n",
        "We want to raise an exception in the kitchen cleaning if we do not have specific kitchen tools but we want to keep the app running (as bathroom and bedroom can be cleaned without these)\n"
      ],
      "metadata": {
        "id": "zSMaF9KPVSYX"
      }
    },
    {
      "cell_type": "code",
      "source": [
        "# input\n",
        "common_tools = [\"bleach\", \"mop\", \"sponge\"]\n",
        "kitchen_tools = [\"grease_remover\", \"scrubbing_sponge\"]\n",
        "\n",
        "\n",
        "def clean_kitchen (common_tools, kitchen_tools):\n",
        "  print(\"kitchen was cleaned.\")\n",
        "\n",
        "def clean_bathroom (common_tools):\n",
        "  print(\"Bathroom was cleaned.\")\n",
        "\n",
        "\n",
        "def clean_room (common_tools):\n",
        "  print(\"Room was cleaned.\")\n",
        "\n",
        "\n",
        "def do_all_cleaning ():\n",
        "  clean_kitchen (common_tools, kitchen_tools)\n",
        "  clean_bathroom (common_tools)\n",
        "  clean_room (common_tools)\n",
        "\n",
        "do_all_cleaning ()"
      ],
      "metadata": {
        "id": "DVuAhRyULdR7"
      },
      "execution_count": null,
      "outputs": []
    },
    {
      "cell_type": "markdown",
      "source": [
        "1. Add a check to raise an exception if no common tools"
      ],
      "metadata": {
        "id": "m9ABOE4LXx_W"
      }
    },
    {
      "cell_type": "code",
      "source": [
        "# change input for part 1:\n",
        "common_tools = []\n",
        "kitchen_tools = [\"grease_remover\", \"scrubbing_sponge\"]"
      ],
      "metadata": {
        "id": "JncodsczYAuB"
      },
      "execution_count": null,
      "outputs": []
    },
    {
      "cell_type": "code",
      "source": [
        "# write your code here"
      ],
      "metadata": {
        "id": "7_2AvbwUHKep"
      },
      "execution_count": null,
      "outputs": []
    },
    {
      "cell_type": "markdown",
      "source": [
        "2. Raise an exception if we don't have kitchen tools. But to not stop the app, just print the exception and continue the other cleaning."
      ],
      "metadata": {
        "id": "YNUe9GFkY-P0"
      }
    },
    {
      "cell_type": "code",
      "source": [
        "# change input for question 2\n",
        "common_tools = [\"bleach\", \"mop\", \"sponge\"]\n",
        "kitchen_tools = []"
      ],
      "metadata": {
        "id": "C0DM29VQZWlL"
      },
      "execution_count": null,
      "outputs": []
    },
    {
      "cell_type": "code",
      "source": [
        "# write your code here"
      ],
      "metadata": {
        "id": "DZ3sqkWkHYsO"
      },
      "execution_count": null,
      "outputs": []
    }
  ]
}